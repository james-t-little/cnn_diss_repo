{
 "cells": [
  {
   "cell_type": "code",
   "execution_count": 1,
   "metadata": {},
   "outputs": [],
   "source": [
    "import numpy as np\n",
    "import os\n",
    "import random\n",
    "import PIL\n",
    "from PIL import Image\n",
    "from tqdm import tqdm\n",
    "from patchify import patchify\n",
    "\n",
    "root = r'C:\\Users\\james\\Documents\\parcel_boundary_data\\raw_data'\n",
    "\n",
    "folders = ['chicago','houston','newyork_boston','pheonix_arizona','seattle']"
   ]
  },
  {
   "cell_type": "code",
   "execution_count": 2,
   "metadata": {},
   "outputs": [],
   "source": [
    "def crop_image(root,location,type): \n",
    "    location_path = os.path.join(root,location)\n",
    "    path = os.path.join(location_path,type)\n",
    "    image_path = sorted([ os.path.join(path, fname) for fname in os.listdir(path) if fname.endswith(\".png\") ])\n",
    "    for img_path in tqdm(image_path):\n",
    "        img = Image.open(img_path)\n",
    "        img = img.convert('RGB')\n",
    "        img = img.crop((44, 192, 2465, 1284))\n",
    "        img.save(img_path)\n",
    "    return\n",
    "    \n",
    "def extract_parcel_boundaries(root,location):\n",
    "    location_path = os.path.join(root,location)\n",
    "    path = os.path.join(location_path,'mask')\n",
    "    image_path = sorted([ os.path.join(path, fname) for fname in os.listdir(path) if fname.endswith(\".png\") ])\n",
    "    for img_path in tqdm(image_path):\n",
    "        img = Image.open(img_path)\n",
    "        img = img.convert('RGB')\n",
    "        img = create_boundaries(img)\n",
    "        img.save(img_path)\n",
    "    return\n",
    "\n",
    "def create_boundaries(img):\n",
    "    for width_trav in range(0,img.size[0]):\n",
    "        for height_trav in range(0,img.size[1]):\n",
    "            pixel = img.getpixel((width_trav,height_trav))\n",
    "            if pixel[1] >= 130 and pixel[2] >= 130:\n",
    "                img.putpixel((width_trav,height_trav),(255,255,255))\n",
    "            else:\n",
    "                img.putpixel((width_trav,height_trav),(0,0,0))\n",
    "    return img\n",
    "\n",
    "def create_patches(img_path,patch_size,target_save_location):\n",
    "    head, tail = os.path.split(os.path.splitext(img_path)[0])\n",
    "    img = Image.open(img_path)\n",
    "    img = (np.array(img.convert('RGB')))\n",
    "    size_x = (img.shape[0] // patch_size) * patch_size  \n",
    "    size_y = (img.shape[1] // patch_size) * patch_size \n",
    "    img_patches = np.squeeze(patchify(np.array( img[0:size_x, 0:size_y]), (patch_size, patch_size, 3), step=patch_size))\n",
    "    count = 1 \n",
    "    for x in range(img_patches.shape[0]):\n",
    "        for y in range(img_patches.shape[1]):\n",
    "            patch = img_patches[x,y]\n",
    "            img = Image.fromarray(patch)\n",
    "            img.save((target_save_location + '\\\\' + tail + '_patch_' + str(count) + '.png'))\n",
    "            count += 1\n",
    "\n",
    "\n",
    "def patch_images(root,type,target,patch_size):\n",
    "    path = os.path.join(root,type)\n",
    "    image_path = sorted([ os.path.join(path, fname) for fname in os.listdir(path) if fname.endswith(\".png\") ])\n",
    "    for i in tqdm(image_path):\n",
    "        create_patches(i,patch_size,target)\n",
    "    return image_path"
   ]
  },
  {
   "cell_type": "code",
   "execution_count": 6,
   "metadata": {},
   "outputs": [
    {
     "name": "stderr",
     "output_type": "stream",
     "text": [
      "100%|██████████| 20/20 [01:06<00:00,  3.33s/it]\n"
     ]
    }
   ],
   "source": [
    "extract_parcel_boundaries(r'C:\\Users\\james\\Documents\\parcel_boundary_data\\raw_data\\data_by_location','la')"
   ]
  },
  {
   "cell_type": "code",
   "execution_count": 15,
   "metadata": {},
   "outputs": [],
   "source": [
    "create_patches(r'C:\\Users\\james\\Documents\\parcel_boundary_data\\raw_data\\data_by_type\\image\\chicago_boundary_1_image.png',256,r'C:\\Users\\james\\Documents\\parcel_boundary_data\\patched_data\\256\\image')"
   ]
  },
  {
   "cell_type": "code",
   "execution_count": 6,
   "metadata": {},
   "outputs": [
    {
     "name": "stderr",
     "output_type": "stream",
     "text": [
      "100%|██████████| 108/108 [00:59<00:00,  1.83it/s]\n"
     ]
    },
    {
     "data": {
      "text/plain": [
       "['C:\\\\Users\\\\james\\\\Documents\\\\parcel_boundary_data\\\\raw_data\\\\data_by_type\\\\image\\\\chicago_boundary_10_image.png',\n",
       " 'C:\\\\Users\\\\james\\\\Documents\\\\parcel_boundary_data\\\\raw_data\\\\data_by_type\\\\image\\\\chicago_boundary_11_image.png',\n",
       " 'C:\\\\Users\\\\james\\\\Documents\\\\parcel_boundary_data\\\\raw_data\\\\data_by_type\\\\image\\\\chicago_boundary_12_image.png',\n",
       " 'C:\\\\Users\\\\james\\\\Documents\\\\parcel_boundary_data\\\\raw_data\\\\data_by_type\\\\image\\\\chicago_boundary_13_image.png',\n",
       " 'C:\\\\Users\\\\james\\\\Documents\\\\parcel_boundary_data\\\\raw_data\\\\data_by_type\\\\image\\\\chicago_boundary_14_image.png',\n",
       " 'C:\\\\Users\\\\james\\\\Documents\\\\parcel_boundary_data\\\\raw_data\\\\data_by_type\\\\image\\\\chicago_boundary_15_image.png',\n",
       " 'C:\\\\Users\\\\james\\\\Documents\\\\parcel_boundary_data\\\\raw_data\\\\data_by_type\\\\image\\\\chicago_boundary_16_image.png',\n",
       " 'C:\\\\Users\\\\james\\\\Documents\\\\parcel_boundary_data\\\\raw_data\\\\data_by_type\\\\image\\\\chicago_boundary_17_image.png',\n",
       " 'C:\\\\Users\\\\james\\\\Documents\\\\parcel_boundary_data\\\\raw_data\\\\data_by_type\\\\image\\\\chicago_boundary_18_image.png',\n",
       " 'C:\\\\Users\\\\james\\\\Documents\\\\parcel_boundary_data\\\\raw_data\\\\data_by_type\\\\image\\\\chicago_boundary_19_image.png',\n",
       " 'C:\\\\Users\\\\james\\\\Documents\\\\parcel_boundary_data\\\\raw_data\\\\data_by_type\\\\image\\\\chicago_boundary_1_image.png',\n",
       " 'C:\\\\Users\\\\james\\\\Documents\\\\parcel_boundary_data\\\\raw_data\\\\data_by_type\\\\image\\\\chicago_boundary_20_image.png',\n",
       " 'C:\\\\Users\\\\james\\\\Documents\\\\parcel_boundary_data\\\\raw_data\\\\data_by_type\\\\image\\\\chicago_boundary_21_image.png',\n",
       " 'C:\\\\Users\\\\james\\\\Documents\\\\parcel_boundary_data\\\\raw_data\\\\data_by_type\\\\image\\\\chicago_boundary_22_image.png',\n",
       " 'C:\\\\Users\\\\james\\\\Documents\\\\parcel_boundary_data\\\\raw_data\\\\data_by_type\\\\image\\\\chicago_boundary_23_image.png',\n",
       " 'C:\\\\Users\\\\james\\\\Documents\\\\parcel_boundary_data\\\\raw_data\\\\data_by_type\\\\image\\\\chicago_boundary_24_image.png',\n",
       " 'C:\\\\Users\\\\james\\\\Documents\\\\parcel_boundary_data\\\\raw_data\\\\data_by_type\\\\image\\\\chicago_boundary_25_image.png',\n",
       " 'C:\\\\Users\\\\james\\\\Documents\\\\parcel_boundary_data\\\\raw_data\\\\data_by_type\\\\image\\\\chicago_boundary_26_image.png',\n",
       " 'C:\\\\Users\\\\james\\\\Documents\\\\parcel_boundary_data\\\\raw_data\\\\data_by_type\\\\image\\\\chicago_boundary_2_image.png',\n",
       " 'C:\\\\Users\\\\james\\\\Documents\\\\parcel_boundary_data\\\\raw_data\\\\data_by_type\\\\image\\\\chicago_boundary_3_image.png',\n",
       " 'C:\\\\Users\\\\james\\\\Documents\\\\parcel_boundary_data\\\\raw_data\\\\data_by_type\\\\image\\\\chicago_boundary_4_image.png',\n",
       " 'C:\\\\Users\\\\james\\\\Documents\\\\parcel_boundary_data\\\\raw_data\\\\data_by_type\\\\image\\\\chicago_boundary_5_image.png',\n",
       " 'C:\\\\Users\\\\james\\\\Documents\\\\parcel_boundary_data\\\\raw_data\\\\data_by_type\\\\image\\\\chicago_boundary_6_image.png',\n",
       " 'C:\\\\Users\\\\james\\\\Documents\\\\parcel_boundary_data\\\\raw_data\\\\data_by_type\\\\image\\\\chicago_boundary_7_image.png',\n",
       " 'C:\\\\Users\\\\james\\\\Documents\\\\parcel_boundary_data\\\\raw_data\\\\data_by_type\\\\image\\\\chicago_boundary_8_image.png',\n",
       " 'C:\\\\Users\\\\james\\\\Documents\\\\parcel_boundary_data\\\\raw_data\\\\data_by_type\\\\image\\\\chicago_boundary_9_image.png',\n",
       " 'C:\\\\Users\\\\james\\\\Documents\\\\parcel_boundary_data\\\\raw_data\\\\data_by_type\\\\image\\\\la_boundary_10_image.png',\n",
       " 'C:\\\\Users\\\\james\\\\Documents\\\\parcel_boundary_data\\\\raw_data\\\\data_by_type\\\\image\\\\la_boundary_11_image.png',\n",
       " 'C:\\\\Users\\\\james\\\\Documents\\\\parcel_boundary_data\\\\raw_data\\\\data_by_type\\\\image\\\\la_boundary_12_image.png',\n",
       " 'C:\\\\Users\\\\james\\\\Documents\\\\parcel_boundary_data\\\\raw_data\\\\data_by_type\\\\image\\\\la_boundary_13_image.png',\n",
       " 'C:\\\\Users\\\\james\\\\Documents\\\\parcel_boundary_data\\\\raw_data\\\\data_by_type\\\\image\\\\la_boundary_14_image.png',\n",
       " 'C:\\\\Users\\\\james\\\\Documents\\\\parcel_boundary_data\\\\raw_data\\\\data_by_type\\\\image\\\\la_boundary_15_image.png',\n",
       " 'C:\\\\Users\\\\james\\\\Documents\\\\parcel_boundary_data\\\\raw_data\\\\data_by_type\\\\image\\\\la_boundary_16_image.png',\n",
       " 'C:\\\\Users\\\\james\\\\Documents\\\\parcel_boundary_data\\\\raw_data\\\\data_by_type\\\\image\\\\la_boundary_17_image.png',\n",
       " 'C:\\\\Users\\\\james\\\\Documents\\\\parcel_boundary_data\\\\raw_data\\\\data_by_type\\\\image\\\\la_boundary_18_image.png',\n",
       " 'C:\\\\Users\\\\james\\\\Documents\\\\parcel_boundary_data\\\\raw_data\\\\data_by_type\\\\image\\\\la_boundary_19_image.png',\n",
       " 'C:\\\\Users\\\\james\\\\Documents\\\\parcel_boundary_data\\\\raw_data\\\\data_by_type\\\\image\\\\la_boundary_1_image.png',\n",
       " 'C:\\\\Users\\\\james\\\\Documents\\\\parcel_boundary_data\\\\raw_data\\\\data_by_type\\\\image\\\\la_boundary_20_image.png',\n",
       " 'C:\\\\Users\\\\james\\\\Documents\\\\parcel_boundary_data\\\\raw_data\\\\data_by_type\\\\image\\\\la_boundary_2_image.png',\n",
       " 'C:\\\\Users\\\\james\\\\Documents\\\\parcel_boundary_data\\\\raw_data\\\\data_by_type\\\\image\\\\la_boundary_3_image.png',\n",
       " 'C:\\\\Users\\\\james\\\\Documents\\\\parcel_boundary_data\\\\raw_data\\\\data_by_type\\\\image\\\\la_boundary_4_image.png',\n",
       " 'C:\\\\Users\\\\james\\\\Documents\\\\parcel_boundary_data\\\\raw_data\\\\data_by_type\\\\image\\\\la_boundary_5_image.png',\n",
       " 'C:\\\\Users\\\\james\\\\Documents\\\\parcel_boundary_data\\\\raw_data\\\\data_by_type\\\\image\\\\la_boundary_6_image.png',\n",
       " 'C:\\\\Users\\\\james\\\\Documents\\\\parcel_boundary_data\\\\raw_data\\\\data_by_type\\\\image\\\\la_boundary_7_image.png',\n",
       " 'C:\\\\Users\\\\james\\\\Documents\\\\parcel_boundary_data\\\\raw_data\\\\data_by_type\\\\image\\\\la_boundary_8_image.png',\n",
       " 'C:\\\\Users\\\\james\\\\Documents\\\\parcel_boundary_data\\\\raw_data\\\\data_by_type\\\\image\\\\la_boundary_9_image.png',\n",
       " 'C:\\\\Users\\\\james\\\\Documents\\\\parcel_boundary_data\\\\raw_data\\\\data_by_type\\\\image\\\\newyork_boston_boundary_10_image.png',\n",
       " 'C:\\\\Users\\\\james\\\\Documents\\\\parcel_boundary_data\\\\raw_data\\\\data_by_type\\\\image\\\\newyork_boston_boundary_11_image.png',\n",
       " 'C:\\\\Users\\\\james\\\\Documents\\\\parcel_boundary_data\\\\raw_data\\\\data_by_type\\\\image\\\\newyork_boston_boundary_12_image.png',\n",
       " 'C:\\\\Users\\\\james\\\\Documents\\\\parcel_boundary_data\\\\raw_data\\\\data_by_type\\\\image\\\\newyork_boston_boundary_13_image.png',\n",
       " 'C:\\\\Users\\\\james\\\\Documents\\\\parcel_boundary_data\\\\raw_data\\\\data_by_type\\\\image\\\\newyork_boston_boundary_14_image.png',\n",
       " 'C:\\\\Users\\\\james\\\\Documents\\\\parcel_boundary_data\\\\raw_data\\\\data_by_type\\\\image\\\\newyork_boston_boundary_15_image.png',\n",
       " 'C:\\\\Users\\\\james\\\\Documents\\\\parcel_boundary_data\\\\raw_data\\\\data_by_type\\\\image\\\\newyork_boston_boundary_16_image.png',\n",
       " 'C:\\\\Users\\\\james\\\\Documents\\\\parcel_boundary_data\\\\raw_data\\\\data_by_type\\\\image\\\\newyork_boston_boundary_17_image.png',\n",
       " 'C:\\\\Users\\\\james\\\\Documents\\\\parcel_boundary_data\\\\raw_data\\\\data_by_type\\\\image\\\\newyork_boston_boundary_18_image.png',\n",
       " 'C:\\\\Users\\\\james\\\\Documents\\\\parcel_boundary_data\\\\raw_data\\\\data_by_type\\\\image\\\\newyork_boston_boundary_19_image.png',\n",
       " 'C:\\\\Users\\\\james\\\\Documents\\\\parcel_boundary_data\\\\raw_data\\\\data_by_type\\\\image\\\\newyork_boston_boundary_1_image.png',\n",
       " 'C:\\\\Users\\\\james\\\\Documents\\\\parcel_boundary_data\\\\raw_data\\\\data_by_type\\\\image\\\\newyork_boston_boundary_20_image.png',\n",
       " 'C:\\\\Users\\\\james\\\\Documents\\\\parcel_boundary_data\\\\raw_data\\\\data_by_type\\\\image\\\\newyork_boston_boundary_21_image.png',\n",
       " 'C:\\\\Users\\\\james\\\\Documents\\\\parcel_boundary_data\\\\raw_data\\\\data_by_type\\\\image\\\\newyork_boston_boundary_22_image.png',\n",
       " 'C:\\\\Users\\\\james\\\\Documents\\\\parcel_boundary_data\\\\raw_data\\\\data_by_type\\\\image\\\\newyork_boston_boundary_23_image.png',\n",
       " 'C:\\\\Users\\\\james\\\\Documents\\\\parcel_boundary_data\\\\raw_data\\\\data_by_type\\\\image\\\\newyork_boston_boundary_24_image.png',\n",
       " 'C:\\\\Users\\\\james\\\\Documents\\\\parcel_boundary_data\\\\raw_data\\\\data_by_type\\\\image\\\\newyork_boston_boundary_25_image.png',\n",
       " 'C:\\\\Users\\\\james\\\\Documents\\\\parcel_boundary_data\\\\raw_data\\\\data_by_type\\\\image\\\\newyork_boston_boundary_26_image.png',\n",
       " 'C:\\\\Users\\\\james\\\\Documents\\\\parcel_boundary_data\\\\raw_data\\\\data_by_type\\\\image\\\\newyork_boston_boundary_27_image.png',\n",
       " 'C:\\\\Users\\\\james\\\\Documents\\\\parcel_boundary_data\\\\raw_data\\\\data_by_type\\\\image\\\\newyork_boston_boundary_28_image.png',\n",
       " 'C:\\\\Users\\\\james\\\\Documents\\\\parcel_boundary_data\\\\raw_data\\\\data_by_type\\\\image\\\\newyork_boston_boundary_29_image.png',\n",
       " 'C:\\\\Users\\\\james\\\\Documents\\\\parcel_boundary_data\\\\raw_data\\\\data_by_type\\\\image\\\\newyork_boston_boundary_2_image.png',\n",
       " 'C:\\\\Users\\\\james\\\\Documents\\\\parcel_boundary_data\\\\raw_data\\\\data_by_type\\\\image\\\\newyork_boston_boundary_30_image.png',\n",
       " 'C:\\\\Users\\\\james\\\\Documents\\\\parcel_boundary_data\\\\raw_data\\\\data_by_type\\\\image\\\\newyork_boston_boundary_31_image.png',\n",
       " 'C:\\\\Users\\\\james\\\\Documents\\\\parcel_boundary_data\\\\raw_data\\\\data_by_type\\\\image\\\\newyork_boston_boundary_32_image.png',\n",
       " 'C:\\\\Users\\\\james\\\\Documents\\\\parcel_boundary_data\\\\raw_data\\\\data_by_type\\\\image\\\\newyork_boston_boundary_33_image.png',\n",
       " 'C:\\\\Users\\\\james\\\\Documents\\\\parcel_boundary_data\\\\raw_data\\\\data_by_type\\\\image\\\\newyork_boston_boundary_34_image.png',\n",
       " 'C:\\\\Users\\\\james\\\\Documents\\\\parcel_boundary_data\\\\raw_data\\\\data_by_type\\\\image\\\\newyork_boston_boundary_35_image.png',\n",
       " 'C:\\\\Users\\\\james\\\\Documents\\\\parcel_boundary_data\\\\raw_data\\\\data_by_type\\\\image\\\\newyork_boston_boundary_36_image.png',\n",
       " 'C:\\\\Users\\\\james\\\\Documents\\\\parcel_boundary_data\\\\raw_data\\\\data_by_type\\\\image\\\\newyork_boston_boundary_37_image.png',\n",
       " 'C:\\\\Users\\\\james\\\\Documents\\\\parcel_boundary_data\\\\raw_data\\\\data_by_type\\\\image\\\\newyork_boston_boundary_38_image.png',\n",
       " 'C:\\\\Users\\\\james\\\\Documents\\\\parcel_boundary_data\\\\raw_data\\\\data_by_type\\\\image\\\\newyork_boston_boundary_39_image.png',\n",
       " 'C:\\\\Users\\\\james\\\\Documents\\\\parcel_boundary_data\\\\raw_data\\\\data_by_type\\\\image\\\\newyork_boston_boundary_3_image.png',\n",
       " 'C:\\\\Users\\\\james\\\\Documents\\\\parcel_boundary_data\\\\raw_data\\\\data_by_type\\\\image\\\\newyork_boston_boundary_4_image.png',\n",
       " 'C:\\\\Users\\\\james\\\\Documents\\\\parcel_boundary_data\\\\raw_data\\\\data_by_type\\\\image\\\\newyork_boston_boundary_5_image.png',\n",
       " 'C:\\\\Users\\\\james\\\\Documents\\\\parcel_boundary_data\\\\raw_data\\\\data_by_type\\\\image\\\\newyork_boston_boundary_6_image.png',\n",
       " 'C:\\\\Users\\\\james\\\\Documents\\\\parcel_boundary_data\\\\raw_data\\\\data_by_type\\\\image\\\\newyork_boston_boundary_7_image.png',\n",
       " 'C:\\\\Users\\\\james\\\\Documents\\\\parcel_boundary_data\\\\raw_data\\\\data_by_type\\\\image\\\\newyork_boston_boundary_8_image.png',\n",
       " 'C:\\\\Users\\\\james\\\\Documents\\\\parcel_boundary_data\\\\raw_data\\\\data_by_type\\\\image\\\\newyork_boston_boundary_9_image.png',\n",
       " 'C:\\\\Users\\\\james\\\\Documents\\\\parcel_boundary_data\\\\raw_data\\\\data_by_type\\\\image\\\\seattle_boundary_10_image.png',\n",
       " 'C:\\\\Users\\\\james\\\\Documents\\\\parcel_boundary_data\\\\raw_data\\\\data_by_type\\\\image\\\\seattle_boundary_11_image.png',\n",
       " 'C:\\\\Users\\\\james\\\\Documents\\\\parcel_boundary_data\\\\raw_data\\\\data_by_type\\\\image\\\\seattle_boundary_13_image.png',\n",
       " 'C:\\\\Users\\\\james\\\\Documents\\\\parcel_boundary_data\\\\raw_data\\\\data_by_type\\\\image\\\\seattle_boundary_14_image.png',\n",
       " 'C:\\\\Users\\\\james\\\\Documents\\\\parcel_boundary_data\\\\raw_data\\\\data_by_type\\\\image\\\\seattle_boundary_15_image.png',\n",
       " 'C:\\\\Users\\\\james\\\\Documents\\\\parcel_boundary_data\\\\raw_data\\\\data_by_type\\\\image\\\\seattle_boundary_16_image.png',\n",
       " 'C:\\\\Users\\\\james\\\\Documents\\\\parcel_boundary_data\\\\raw_data\\\\data_by_type\\\\image\\\\seattle_boundary_17_image.png',\n",
       " 'C:\\\\Users\\\\james\\\\Documents\\\\parcel_boundary_data\\\\raw_data\\\\data_by_type\\\\image\\\\seattle_boundary_18_image.png',\n",
       " 'C:\\\\Users\\\\james\\\\Documents\\\\parcel_boundary_data\\\\raw_data\\\\data_by_type\\\\image\\\\seattle_boundary_19_image.png',\n",
       " 'C:\\\\Users\\\\james\\\\Documents\\\\parcel_boundary_data\\\\raw_data\\\\data_by_type\\\\image\\\\seattle_boundary_20_image.png',\n",
       " 'C:\\\\Users\\\\james\\\\Documents\\\\parcel_boundary_data\\\\raw_data\\\\data_by_type\\\\image\\\\seattle_boundary_21_image.png',\n",
       " 'C:\\\\Users\\\\james\\\\Documents\\\\parcel_boundary_data\\\\raw_data\\\\data_by_type\\\\image\\\\seattle_boundary_22_image.png',\n",
       " 'C:\\\\Users\\\\james\\\\Documents\\\\parcel_boundary_data\\\\raw_data\\\\data_by_type\\\\image\\\\seattle_boundary_23_image.png',\n",
       " 'C:\\\\Users\\\\james\\\\Documents\\\\parcel_boundary_data\\\\raw_data\\\\data_by_type\\\\image\\\\seattle_boundary_24_image.png',\n",
       " 'C:\\\\Users\\\\james\\\\Documents\\\\parcel_boundary_data\\\\raw_data\\\\data_by_type\\\\image\\\\seattle_boundary_25_image.png',\n",
       " 'C:\\\\Users\\\\james\\\\Documents\\\\parcel_boundary_data\\\\raw_data\\\\data_by_type\\\\image\\\\seattle_boundary_26_image.png',\n",
       " 'C:\\\\Users\\\\james\\\\Documents\\\\parcel_boundary_data\\\\raw_data\\\\data_by_type\\\\image\\\\seattle_boundary_2_image.png',\n",
       " 'C:\\\\Users\\\\james\\\\Documents\\\\parcel_boundary_data\\\\raw_data\\\\data_by_type\\\\image\\\\seattle_boundary_3_image.png',\n",
       " 'C:\\\\Users\\\\james\\\\Documents\\\\parcel_boundary_data\\\\raw_data\\\\data_by_type\\\\image\\\\seattle_boundary_4_image.png',\n",
       " 'C:\\\\Users\\\\james\\\\Documents\\\\parcel_boundary_data\\\\raw_data\\\\data_by_type\\\\image\\\\seattle_boundary_5_image.png',\n",
       " 'C:\\\\Users\\\\james\\\\Documents\\\\parcel_boundary_data\\\\raw_data\\\\data_by_type\\\\image\\\\seattle_boundary_6_image.png',\n",
       " 'C:\\\\Users\\\\james\\\\Documents\\\\parcel_boundary_data\\\\raw_data\\\\data_by_type\\\\image\\\\seattle_boundary_7_image.png',\n",
       " 'C:\\\\Users\\\\james\\\\Documents\\\\parcel_boundary_data\\\\raw_data\\\\data_by_type\\\\image\\\\seattle_boundary_8_image.png']"
      ]
     },
     "execution_count": 6,
     "metadata": {},
     "output_type": "execute_result"
    }
   ],
   "source": [
    "patch_images(r'C:\\Users\\james\\Documents\\parcel_boundary_data\\raw_data\\data_by_type','image',r'C:\\Users\\james\\Documents\\parcel_boundary_data\\patched_data\\512\\image',512)"
   ]
  }
 ],
 "metadata": {
  "kernelspec": {
   "display_name": "Python 3.10.0 64-bit",
   "language": "python",
   "name": "python3"
  },
  "language_info": {
   "codemirror_mode": {
    "name": "ipython",
    "version": 3
   },
   "file_extension": ".py",
   "mimetype": "text/x-python",
   "name": "python",
   "nbconvert_exporter": "python",
   "pygments_lexer": "ipython3",
   "version": "3.10.0"
  },
  "orig_nbformat": 4,
  "vscode": {
   "interpreter": {
    "hash": "413c54d42d867d78bc5693b88112002b4b75f03abc9fed1665b973f73c05d110"
   }
  }
 },
 "nbformat": 4,
 "nbformat_minor": 2
}
