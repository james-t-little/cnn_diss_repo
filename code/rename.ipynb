{
 "cells": [
  {
   "cell_type": "code",
   "execution_count": 1,
   "metadata": {},
   "outputs": [],
   "source": [
    "import numpy as np\n",
    "import os\n",
    "import PIL\n",
    "from PIL import Image"
   ]
  },
  {
   "cell_type": "code",
   "execution_count": 2,
   "metadata": {},
   "outputs": [],
   "source": [
    "path = r'C:\\Users\\james\\Documents\\parcel_boundary_data\\raw_data\\data_by_location'\n",
    "\n",
    "area = 'la'\n",
    "\n",
    "location = os.path.join(path,area)\n",
    "\n",
    "image = os.path.join(location,'image')\n",
    "\n",
    "mask = os.path.join(location,'mask')\n",
    "\n",
    "image_path = [ os.path.join(image, fname) for fname in os.listdir(image) if fname.endswith(\".png\") ]\n",
    "\n",
    "mask_path = [ os.path.join(mask, fname) for fname in os.listdir(mask) if fname.endswith(\".png\") ]"
   ]
  },
  {
   "cell_type": "code",
   "execution_count": 48,
   "metadata": {},
   "outputs": [],
   "source": [
    "count = 1 \n",
    "for path in image_path:\n",
    "    os.rename(path, os.path.join(image, (area + '_boundary_' + str(count) + '_image.png')))\n",
    "    count += 1"
   ]
  },
  {
   "cell_type": "code",
   "execution_count": 49,
   "metadata": {},
   "outputs": [],
   "source": [
    "count = 1 \n",
    "for path in mask_path:\n",
    "    os.rename(path, os.path.join(mask, (area + '_boundary_' + str(count) + '_mask.png')))\n",
    "    count += 1\n",
    "    "
   ]
  }
 ],
 "metadata": {
  "kernelspec": {
   "display_name": "Python 3.9.12 ('base')",
   "language": "python",
   "name": "python3"
  },
  "language_info": {
   "codemirror_mode": {
    "name": "ipython",
    "version": 3
   },
   "file_extension": ".py",
   "mimetype": "text/x-python",
   "name": "python",
   "nbconvert_exporter": "python",
   "pygments_lexer": "ipython3",
   "version": "3.9.12"
  },
  "orig_nbformat": 4,
  "vscode": {
   "interpreter": {
    "hash": "594cbcb53b7eb24b01ad1ace3292a9583de43e996a12a214afbcf4f5a5715dd8"
   }
  }
 },
 "nbformat": 4,
 "nbformat_minor": 2
}
