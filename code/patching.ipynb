{
 "cells": [
  {
   "cell_type": "code",
   "execution_count": 16,
   "metadata": {},
   "outputs": [],
   "source": [
    "import numpy as np\n",
    "import os\n",
    "import random\n",
    "import PIL\n",
    "from PIL import Image\n",
    "from tqdm import tqdm\n",
    "from patchify import patchify"
   ]
  },
  {
   "cell_type": "code",
   "execution_count": 17,
   "metadata": {},
   "outputs": [],
   "source": [
    "path = r'C:\\Users\\james\\Documents\\dissertation_seg_data'\n",
    "\n",
    "input_path = os.path.join(path,\"input_resize\")\n",
    "\n",
    "mask_path = os.path.join(path,\"mask_resize\")"
   ]
  },
  {
   "cell_type": "code",
   "execution_count": 18,
   "metadata": {},
   "outputs": [],
   "source": [
    "image_input_path = sorted([ os.path.join(input_path, fname) for fname in os.listdir(input_path) if fname.endswith(\".png\") ])"
   ]
  },
  {
   "cell_type": "code",
   "execution_count": 19,
   "metadata": {},
   "outputs": [],
   "source": [
    "image_mask_path = sorted([ os.path.join(mask_path, fname) for fname in os.listdir(mask_path) if fname.endswith(\".png\")])"
   ]
  },
  {
   "cell_type": "code",
   "execution_count": 20,
   "metadata": {},
   "outputs": [
    {
     "name": "stderr",
     "output_type": "stream",
     "text": [
      "100%|██████████| 1306/1306 [02:18<00:00,  9.44it/s]\n"
     ]
    }
   ],
   "source": [
    "#C:\\Users\\james\\Documents\\dissertation_seg_data\\mask_resize_patches\n",
    "\n",
    "patch_size = 512\n",
    "\n",
    "def patch_images(dir):\n",
    "\n",
    "    for image in tqdm(range(len(dir))):\n",
    "        #input \n",
    "        inp_path = dir[image]\n",
    "        head, tail = os.path.split(os.path.splitext(inp_path)[0])\n",
    "        img = Image.open(inp_path)\n",
    "        img = (np.array(img))\n",
    "\n",
    "        size_x = (img.shape[0] // patch_size) * patch_size  \n",
    "        size_y = (img.shape[1] // patch_size) * patch_size \n",
    "\n",
    "        img_patches = np.squeeze(patchify(np.array( img[0:size_x, 0:size_y]), (patch_size, patch_size, 3), step=patch_size))\n",
    "        \n",
    "        count = 1 \n",
    "        for x in range(img_patches.shape[0]):\n",
    "            for y in range(img_patches.shape[1]):\n",
    "                patch = img_patches[x,y]\n",
    "                img = Image.fromarray(patch)\n",
    "                img.save((path + '\\\\mask_resize_patches\\\\' + tail + '_patch_' + str(count) + '.png'))\n",
    "                count += 1\n",
    "    return \n",
    "\n",
    "patch_images(image_mask_path)"
   ]
  }
 ],
 "metadata": {
  "kernelspec": {
   "display_name": "Python 3.10.0 64-bit",
   "language": "python",
   "name": "python3"
  },
  "language_info": {
   "codemirror_mode": {
    "name": "ipython",
    "version": 3
   },
   "file_extension": ".py",
   "mimetype": "text/x-python",
   "name": "python",
   "nbconvert_exporter": "python",
   "pygments_lexer": "ipython3",
   "version": "3.10.0"
  },
  "orig_nbformat": 4,
  "vscode": {
   "interpreter": {
    "hash": "413c54d42d867d78bc5693b88112002b4b75f03abc9fed1665b973f73c05d110"
   }
  }
 },
 "nbformat": 4,
 "nbformat_minor": 2
}
