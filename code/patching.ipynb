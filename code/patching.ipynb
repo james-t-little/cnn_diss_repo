{
 "cells": [
  {
   "cell_type": "code",
   "execution_count": 20,
   "metadata": {},
   "outputs": [],
   "source": [
    "import numpy as np\n",
    "import os\n",
    "import random\n",
    "import PIL\n",
    "from PIL import Image\n",
    "from tqdm import tqdm\n",
    "from patchify import patchify"
   ]
  },
  {
   "cell_type": "code",
   "execution_count": 16,
   "metadata": {},
   "outputs": [],
   "source": [
    "path = r'C:\\Users\\james\\Documents\\dissertation_seg_data'\n",
    "\n",
    "input_path = os.path.join(path,\"input_resize\")\n",
    "\n",
    "mask_path = os.path.join(path,\"mask_resize\")"
   ]
  },
  {
   "cell_type": "code",
   "execution_count": null,
   "metadata": {},
   "outputs": [],
   "source": [
    "image_input_path = sorted([ os.path.join(input_path, fname) for fname in os.listdir(input_path) if fname.endswith(\".png\") ])"
   ]
  },
  {
   "cell_type": "code",
   "execution_count": null,
   "metadata": {},
   "outputs": [],
   "source": [
    "image_mask_path = sorted([ os.path.join(mask_path, fname) for fname in os.listdir(mask_path) if fname.endswith(\".png\")])"
   ]
  },
  {
   "cell_type": "code",
   "execution_count": 24,
   "metadata": {},
   "outputs": [
    {
     "name": "stderr",
     "output_type": "stream",
     "text": [
      "  0%|          | 0/1306 [00:00<?, ?it/s]\n"
     ]
    }
   ],
   "source": [
    "#C:\\Users\\james\\Documents\\dissertation_seg_data\\mask_resize_patches\n",
    "\n",
    "patch_size = 512\n",
    "\n",
    "def patch_images(dir):\n",
    "\n",
    "    images = []\n",
    "\n",
    "    for image in tqdm(range(len(dir))):\n",
    "        #input \n",
    "        inp_path = dir[image]\n",
    "        head, tail = os.path.split(os.path.splitext(inp_path)[0])\n",
    "        print(head,tail)\n",
    "        img = Image.open(inp_path)\n",
    "        img = (np.array(img))\n",
    "\n",
    "        size_x = (img.shape[0] // patch_size) * patch_size  \n",
    "        size_y = (img.shape[1] // patch_size) * patch_size \n",
    "\n",
    "        img_patches = np.squeeze(patchify(np.array( img[0:size_x, 0:size_y]), (patch_size, patch_size, 3), step=patch_size))\n",
    "        \n",
    "        count = 1 \n",
    "        for x in range(img_patches.shape[0]):\n",
    "            for y in range(img_patches.shape[1]):\n",
    "                patch = img_patches[x,y]\n",
    "                img = Image.fromarray(patch)\n",
    "                print(path + '\\\\input_resize_patches\\\\' + tail + '_patch_' + count + '.png')\n",
    "                #img.save((path + '\\\\input_resize_patches\\\\' + tail + '_patch_' + count + '.png'))\n",
    "                count += 1\n",
    "        break\n",
    "\n",
    "    return images\n",
    "\n",
    "patch_images(image_input_path)"
   ]
  }
 ],
 "metadata": {
  "kernelspec": {
   "display_name": "Python 3.9.12 ('base')",
   "language": "python",
   "name": "python3"
  },
  "language_info": {
   "codemirror_mode": {
    "name": "ipython",
    "version": 3
   },
   "file_extension": ".py",
   "mimetype": "text/x-python",
   "name": "python",
   "nbconvert_exporter": "python",
   "pygments_lexer": "ipython3",
   "version": "3.9.12"
  },
  "orig_nbformat": 4,
  "vscode": {
   "interpreter": {
    "hash": "594cbcb53b7eb24b01ad1ace3292a9583de43e996a12a214afbcf4f5a5715dd8"
   }
  }
 },
 "nbformat": 4,
 "nbformat_minor": 2
}
