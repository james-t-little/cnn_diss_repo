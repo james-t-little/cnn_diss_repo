{
  "cells": [
    {
      "cell_type": "code",
      "execution_count": 53,
      "metadata": {
        "id": "B50YBse-ZQT3"
      },
      "outputs": [],
      "source": [
        "import pandas as pd\n",
        "import numpy as np\n",
        "import os\n",
        "import random\n",
        "import PIL\n",
        "from google.colab import drive\n",
        "from PIL import Image, ImageOps\n",
        "from tqdm import tqdm\n",
        "from collections import Counter\n",
        "import tensorflow as tf\n",
        "import matplotlib.pyplot as plt\n",
        "\n",
        "from keras.models import Sequential\n",
        "from keras_preprocessing.image import ImageDataGenerator\n",
        "from keras.layers import Dense, Activation, Flatten, Dropout, BatchNormalization, GaussianNoise\n",
        "from keras.layers import Conv2D, MaxPool2D, Input, concatenate, Conv2DTranspose\n",
        "from keras.layers.convolutional import MaxPooling2D\n",
        "from keras import regularizers, optimizers\n",
        "import keras\n",
        "from keras.models import Model\n",
        "from tensorflow.keras.optimizers import Adam\n",
        "from keras.callbacks import EarlyStopping\n",
        "from tensorflow.keras.applications import VGG16, InceptionV3\n",
        "from sklearn.model_selection import train_test_split\n",
        "import tensorflow as tf\n",
        "\n",
        "AUTOTUNE = tf.data.experimental.AUTOTUNE\n",
        "\n",
        "seed = random.randint(1, 100)"
      ]
    },
    {
      "cell_type": "code",
      "execution_count": 54,
      "metadata": {
        "colab": {
          "base_uri": "https://localhost:8080/"
        },
        "id": "pVYDeaWGZQT5",
        "outputId": "c69adfdd-3dd7-4208-953f-004eae475630"
      },
      "outputs": [
        {
          "output_type": "stream",
          "name": "stdout",
          "text": [
            "Drive already mounted at /content/drive; to attempt to forcibly remount, call drive.mount(\"/content/drive\", force_remount=True).\n"
          ]
        }
      ],
      "source": [
        "drive.mount('/content/drive')\n",
        "\n",
        "IMG_SIZE = 512\n",
        "\n",
        "if IMG_SIZE == 256:\n",
        "    path = '/content/drive/My Drive/parcel_boundaries_dataset/patched_data/256'\n",
        "elif IMG_SIZE == 512:\n",
        "    path = '/content/drive/My Drive/parcel_boundaries_dataset/patched_data/512'\n",
        "\n",
        "input_path = os.path.join(path,\"image\")\n",
        "mask_path = os.path.join(path,\"binary_mask\")"
      ]
    },
    {
      "cell_type": "code",
      "execution_count": 55,
      "metadata": {
        "id": "AKuBMcLbGzDH"
      },
      "outputs": [],
      "source": [
        "image_input_path = sorted([ os.path.join(input_path, fname) for fname in os.listdir(input_path) if fname.endswith(\".png\") ])\n",
        "\n",
        "image_mask_path = sorted([ os.path.join(mask_path, fname) for fname in os.listdir(mask_path) if fname.endswith(\".png\")])\n",
        "\n",
        "path_df = pd.DataFrame({'image':image_input_path,'mask':image_mask_path})"
      ]
    },
    {
      "cell_type": "code",
      "execution_count": 56,
      "metadata": {
        "id": "ObA2CrzrGzDH"
      },
      "outputs": [],
      "source": [
        "train, val = train_test_split(path_df,test_size=0.15, random_state=seed)\n",
        "\n"
      ]
    },
    {
      "cell_type": "code",
      "execution_count": 57,
      "metadata": {
        "id": "4r36Q5P3GzDI",
        "colab": {
          "base_uri": "https://localhost:8080/"
        },
        "outputId": "e1e56014-9b1e-4e7b-dda8-95c8fe3b5dbc"
      },
      "outputs": [
        {
          "output_type": "stream",
          "name": "stdout",
          "text": [
            "Found 734 validated image filenames.\n",
            "Found 734 validated image filenames.\n",
            "Found 130 validated image filenames.\n",
            "Found 130 validated image filenames.\n"
          ]
        }
      ],
      "source": [
        "#https://www.kaggle.com/code/iasonasxrist/mri-brain-tumour-segmentation-with-unet-cnn/notebook\n",
        "\n",
        "EPOCHS = 10\n",
        "BATCH_SIZE = 16\n",
        "ImgHeight = IMG_SIZE\n",
        "ImgWidth = IMG_SIZE\n",
        "Channels = 3\n",
        "\n",
        "data_augmentation = dict(rotation_range=0.2,\n",
        "                        width_shift_range=0.05,\n",
        "                        height_shift_range=0.05,\n",
        "                        shear_range=0.05,\n",
        "                        zoom_range=0.05,\n",
        "                        horizontal_flip=True)\n",
        "\n",
        "imagegen = ImageDataGenerator(rescale=1./255., **data_augmentation)\n",
        "maskgen = ImageDataGenerator(rescale=1./255., **data_augmentation)\n",
        "\n",
        "timage_generator=imagegen.flow_from_dataframe(dataframe=train,\n",
        "                                            x_col=\"image\",\n",
        "                                            batch_size= BATCH_SIZE,\n",
        "                                            seed=seed,\n",
        "                                            class_mode=None,\n",
        "                                            color_mode='rgb')\n",
        "\n",
        "tmask_generator=maskgen.flow_from_dataframe(dataframe=train,\n",
        "                                            x_col=\"mask\",\n",
        "                                            batch_size=BATCH_SIZE,\n",
        "                                            seed=seed,\n",
        "                                            class_mode=None,\n",
        "                                            color_mode='grayscale')\n",
        "\n",
        "imagegen = ImageDataGenerator(rescale=1./255.)\n",
        "maskgen = ImageDataGenerator(rescale=1./255.)\n",
        "\n",
        "vimage_generator = imagegen.flow_from_dataframe(dataframe=val,\n",
        "                                             x_col = \"image\",\n",
        "                                             batch_size = BATCH_SIZE,\n",
        "                                             seed=seed,\n",
        "                                             class_mode=None,\n",
        "                                             color_mode='rgb')\n",
        "# validation data generator\n",
        "vmask_generator = maskgen.flow_from_dataframe(dataframe=val,\n",
        "                                             x_col = \"mask\",\n",
        "                                             batch_size = BATCH_SIZE,\n",
        "                                             seed=seed,\n",
        "                                             class_mode=None,\n",
        "                                             color_mode='grayscale')\n",
        "\n",
        "\n",
        "def data_iterator(image_gen,mask_gen):\n",
        "    for img, mask in zip(image_gen,mask_gen):\n",
        "        yield img, mask\n",
        "\n",
        "train_gen = data_iterator(timage_generator, tmask_generator)\n",
        "val_gen = data_iterator(vimage_generator,vmask_generator)"
      ]
    },
    {
      "cell_type": "code",
      "source": [
        "for _ in range(5):\n",
        "    img = vmask_generator.next()\n",
        "    print(img.shape)\n",
        "    print(np.unique(img))"
      ],
      "metadata": {
        "colab": {
          "base_uri": "https://localhost:8080/"
        },
        "id": "1sfutpc3s4E2",
        "outputId": "059ea316-892a-4c35-e6b3-7d3f7142d78a"
      },
      "execution_count": 58,
      "outputs": [
        {
          "output_type": "stream",
          "name": "stdout",
          "text": [
            "(16, 256, 256, 1)\n",
            "[0. 1.]\n",
            "(16, 256, 256, 1)\n",
            "[0. 1.]\n",
            "(16, 256, 256, 1)\n",
            "[0. 1.]\n",
            "(16, 256, 256, 1)\n",
            "[0. 1.]\n",
            "(16, 256, 256, 1)\n",
            "[0. 1.]\n"
          ]
        }
      ]
    },
    {
      "cell_type": "code",
      "source": [
        "def build_unet(img_shape):\n",
        "    # input layer shape is equal to patch image size\n",
        "    inputs = Input(shape=img_shape)\n",
        "\n",
        "    previous_block_activation = inputs\n",
        "\n",
        "    # rescale images from (0, 255) to (0, 1)\n",
        "\n",
        "    contraction = {}\n",
        "    # # Contraction path: Blocks 1 through 5 are identical apart from the feature depth\n",
        "    for f in [16, 32, 64, 128]:\n",
        "        x = Conv2D(f, (3, 3), activation='relu', kernel_initializer='he_normal', padding='same')(previous_block_activation)\n",
        "        x = Dropout(0.1)(x)\n",
        "        x = Conv2D(f, (3, 3), activation='relu', kernel_initializer='he_normal', padding='same')(x)\n",
        "        contraction[f'conv{f}'] = x\n",
        "        x = MaxPooling2D((2, 2))(x)\n",
        "        previous_block_activation = x\n",
        "\n",
        "    c5 = Conv2D(160, (3, 3), activation='relu', kernel_initializer='he_normal', padding='same')(previous_block_activation)\n",
        "    c5 = Dropout(0.2)(c5)\n",
        "    c5 = Conv2D(160, (3, 3), activation='relu', kernel_initializer='he_normal', padding='same')(c5)\n",
        "    previous_block_activation = c5\n",
        "\n",
        "    # Expansive path: Second half of the network: upsampling inputs\n",
        "    for f in reversed([16, 32, 64, 128]):\n",
        "        x = Conv2DTranspose(f, (2, 2), strides=(2, 2), padding='same')(previous_block_activation)\n",
        "        x = concatenate([x, contraction[f'conv{f}']])\n",
        "        x = Conv2D(f, (3, 3), activation='relu', kernel_initializer='he_normal', padding='same')(x)\n",
        "        x = Dropout(0.2)(x)\n",
        "        x = Conv2D(f, (3, 3), activation='relu', kernel_initializer='he_normal', padding='same')(x)\n",
        "        previous_block_activation = x\n",
        "\n",
        "    outputs = Conv2D(filters=1, kernel_size=(1, 1), activation=\"sigmoid\")(previous_block_activation)\n",
        "\n",
        "    return Model(inputs=inputs, outputs=outputs)\n",
        "\n",
        "model = build_unet((IMG_SIZE, IMG_SIZE, 3))"
      ],
      "metadata": {
        "id": "TrscGvQgTNtg"
      },
      "execution_count": 60,
      "outputs": []
    },
    {
      "cell_type": "code",
      "source": [
        "def convolutional_layer_block(previous_layer, filter_size, kernel):\n",
        "        x = Conv2D(filter_size, kernel, activation='relu', kernel_initializer='he_normal', padding='same')(previous_layer)\n",
        "        x = Dropout(0.2)(x)\n",
        "        x = Conv2D(filter_size, kernel, activation='relu', kernel_initializer='he_normal', padding='same')(x)\n",
        "        return x\n",
        "\n",
        "def u_net(img_shape, n_classes):\n",
        "    inputs = Input(shape=img_shape)\n",
        "    previous_layer = inputs\n",
        "\n",
        "    concatenate_link = []\n",
        "    for filter_size in [32, 64, 128, 256]:\n",
        "        x = convolutional_layer_block(previous_layer, filter_size, (3,3))\n",
        "        concatenate_link.append(x)\n",
        "        x = MaxPooling2D((2, 2))(x)\n",
        "        previous_layer = x\n",
        "\n",
        "    concatenate_link = list(reversed(concatenate_link))\n",
        "    x = convolutional_layer_block(previous_layer, 160, (3,3))\n",
        "    previous_layer = x\n",
        "\n",
        "    for count,filter_size in enumerate([256, 128, 64, 32]):\n",
        "        x = Conv2DTranspose(filter_size, (2, 2), strides=(2, 2), padding='same')(previous_layer)\n",
        "        x = concatenate([x, concatenate_link[count]], axis = 3)\n",
        "        convolutional_layer_block(x, filter_size, (3,3))\n",
        "        previous_layer = x\n",
        "\n",
        "    if n_classes == 1:\n",
        "        activation = 'sigmoid'\n",
        "    else:\n",
        "        activation = 'softmax'\n",
        "\n",
        "    outputs = Conv2D(n_classes, kernel_size=(1, 1), activation=activation)(previous_layer)\n",
        "\n",
        "    return Model(inputs=inputs, outputs=outputs)\n",
        "\n",
        "model = u_net((IMG_SIZE, IMG_SIZE, 3), n_classes = 1)"
      ],
      "metadata": {
        "id": "9nyofPxQIGPe"
      },
      "execution_count": 46,
      "outputs": []
    },
    {
      "cell_type": "code",
      "source": [
        "model.summary()"
      ],
      "metadata": {
        "colab": {
          "base_uri": "https://localhost:8080/"
        },
        "id": "0OagqU7U0d-n",
        "outputId": "b53bf0cf-2427-46a5-ebb1-d33b472b8fe3"
      },
      "execution_count": 61,
      "outputs": [
        {
          "output_type": "stream",
          "name": "stdout",
          "text": [
            "Model: \"model_8\"\n",
            "__________________________________________________________________________________________________\n",
            " Layer (type)                   Output Shape         Param #     Connected to                     \n",
            "==================================================================================================\n",
            " input_11 (InputLayer)          [(None, 512, 512, 3  0           []                               \n",
            "                                )]                                                                \n",
            "                                                                                                  \n",
            " conv2d_155 (Conv2D)            (None, 512, 512, 16  448         ['input_11[0][0]']               \n",
            "                                )                                                                 \n",
            "                                                                                                  \n",
            " dropout_73 (Dropout)           (None, 512, 512, 16  0           ['conv2d_155[0][0]']             \n",
            "                                )                                                                 \n",
            "                                                                                                  \n",
            " conv2d_156 (Conv2D)            (None, 512, 512, 16  2320        ['dropout_73[0][0]']             \n",
            "                                )                                                                 \n",
            "                                                                                                  \n",
            " max_pooling2d_32 (MaxPooling2D  (None, 256, 256, 16  0          ['conv2d_156[0][0]']             \n",
            " )                              )                                                                 \n",
            "                                                                                                  \n",
            " conv2d_157 (Conv2D)            (None, 256, 256, 32  4640        ['max_pooling2d_32[0][0]']       \n",
            "                                )                                                                 \n",
            "                                                                                                  \n",
            " dropout_74 (Dropout)           (None, 256, 256, 32  0           ['conv2d_157[0][0]']             \n",
            "                                )                                                                 \n",
            "                                                                                                  \n",
            " conv2d_158 (Conv2D)            (None, 256, 256, 32  9248        ['dropout_74[0][0]']             \n",
            "                                )                                                                 \n",
            "                                                                                                  \n",
            " max_pooling2d_33 (MaxPooling2D  (None, 128, 128, 32  0          ['conv2d_158[0][0]']             \n",
            " )                              )                                                                 \n",
            "                                                                                                  \n",
            " conv2d_159 (Conv2D)            (None, 128, 128, 64  18496       ['max_pooling2d_33[0][0]']       \n",
            "                                )                                                                 \n",
            "                                                                                                  \n",
            " dropout_75 (Dropout)           (None, 128, 128, 64  0           ['conv2d_159[0][0]']             \n",
            "                                )                                                                 \n",
            "                                                                                                  \n",
            " conv2d_160 (Conv2D)            (None, 128, 128, 64  36928       ['dropout_75[0][0]']             \n",
            "                                )                                                                 \n",
            "                                                                                                  \n",
            " max_pooling2d_34 (MaxPooling2D  (None, 64, 64, 64)  0           ['conv2d_160[0][0]']             \n",
            " )                                                                                                \n",
            "                                                                                                  \n",
            " conv2d_161 (Conv2D)            (None, 64, 64, 128)  73856       ['max_pooling2d_34[0][0]']       \n",
            "                                                                                                  \n",
            " dropout_76 (Dropout)           (None, 64, 64, 128)  0           ['conv2d_161[0][0]']             \n",
            "                                                                                                  \n",
            " conv2d_162 (Conv2D)            (None, 64, 64, 128)  147584      ['dropout_76[0][0]']             \n",
            "                                                                                                  \n",
            " max_pooling2d_35 (MaxPooling2D  (None, 32, 32, 128)  0          ['conv2d_162[0][0]']             \n",
            " )                                                                                                \n",
            "                                                                                                  \n",
            " conv2d_163 (Conv2D)            (None, 32, 32, 160)  184480      ['max_pooling2d_35[0][0]']       \n",
            "                                                                                                  \n",
            " dropout_77 (Dropout)           (None, 32, 32, 160)  0           ['conv2d_163[0][0]']             \n",
            "                                                                                                  \n",
            " conv2d_164 (Conv2D)            (None, 32, 32, 160)  230560      ['dropout_77[0][0]']             \n",
            "                                                                                                  \n",
            " conv2d_transpose_32 (Conv2DTra  (None, 64, 64, 128)  82048      ['conv2d_164[0][0]']             \n",
            " nspose)                                                                                          \n",
            "                                                                                                  \n",
            " concatenate_32 (Concatenate)   (None, 64, 64, 256)  0           ['conv2d_transpose_32[0][0]',    \n",
            "                                                                  'conv2d_162[0][0]']             \n",
            "                                                                                                  \n",
            " conv2d_165 (Conv2D)            (None, 64, 64, 128)  295040      ['concatenate_32[0][0]']         \n",
            "                                                                                                  \n",
            " dropout_78 (Dropout)           (None, 64, 64, 128)  0           ['conv2d_165[0][0]']             \n",
            "                                                                                                  \n",
            " conv2d_166 (Conv2D)            (None, 64, 64, 128)  147584      ['dropout_78[0][0]']             \n",
            "                                                                                                  \n",
            " conv2d_transpose_33 (Conv2DTra  (None, 128, 128, 64  32832      ['conv2d_166[0][0]']             \n",
            " nspose)                        )                                                                 \n",
            "                                                                                                  \n",
            " concatenate_33 (Concatenate)   (None, 128, 128, 12  0           ['conv2d_transpose_33[0][0]',    \n",
            "                                8)                                'conv2d_160[0][0]']             \n",
            "                                                                                                  \n",
            " conv2d_167 (Conv2D)            (None, 128, 128, 64  73792       ['concatenate_33[0][0]']         \n",
            "                                )                                                                 \n",
            "                                                                                                  \n",
            " dropout_79 (Dropout)           (None, 128, 128, 64  0           ['conv2d_167[0][0]']             \n",
            "                                )                                                                 \n",
            "                                                                                                  \n",
            " conv2d_168 (Conv2D)            (None, 128, 128, 64  36928       ['dropout_79[0][0]']             \n",
            "                                )                                                                 \n",
            "                                                                                                  \n",
            " conv2d_transpose_34 (Conv2DTra  (None, 256, 256, 32  8224       ['conv2d_168[0][0]']             \n",
            " nspose)                        )                                                                 \n",
            "                                                                                                  \n",
            " concatenate_34 (Concatenate)   (None, 256, 256, 64  0           ['conv2d_transpose_34[0][0]',    \n",
            "                                )                                 'conv2d_158[0][0]']             \n",
            "                                                                                                  \n",
            " conv2d_169 (Conv2D)            (None, 256, 256, 32  18464       ['concatenate_34[0][0]']         \n",
            "                                )                                                                 \n",
            "                                                                                                  \n",
            " dropout_80 (Dropout)           (None, 256, 256, 32  0           ['conv2d_169[0][0]']             \n",
            "                                )                                                                 \n",
            "                                                                                                  \n",
            " conv2d_170 (Conv2D)            (None, 256, 256, 32  9248        ['dropout_80[0][0]']             \n",
            "                                )                                                                 \n",
            "                                                                                                  \n",
            " conv2d_transpose_35 (Conv2DTra  (None, 512, 512, 16  2064       ['conv2d_170[0][0]']             \n",
            " nspose)                        )                                                                 \n",
            "                                                                                                  \n",
            " concatenate_35 (Concatenate)   (None, 512, 512, 32  0           ['conv2d_transpose_35[0][0]',    \n",
            "                                )                                 'conv2d_156[0][0]']             \n",
            "                                                                                                  \n",
            " conv2d_171 (Conv2D)            (None, 512, 512, 16  4624        ['concatenate_35[0][0]']         \n",
            "                                )                                                                 \n",
            "                                                                                                  \n",
            " dropout_81 (Dropout)           (None, 512, 512, 16  0           ['conv2d_171[0][0]']             \n",
            "                                )                                                                 \n",
            "                                                                                                  \n",
            " conv2d_172 (Conv2D)            (None, 512, 512, 16  2320        ['dropout_81[0][0]']             \n",
            "                                )                                                                 \n",
            "                                                                                                  \n",
            " conv2d_173 (Conv2D)            (None, 512, 512, 1)  17          ['conv2d_172[0][0]']             \n",
            "                                                                                                  \n",
            "==================================================================================================\n",
            "Total params: 1,421,745\n",
            "Trainable params: 1,421,745\n",
            "Non-trainable params: 0\n",
            "__________________________________________________________________________________________________\n"
          ]
        }
      ]
    },
    {
      "cell_type": "code",
      "source": [
        "model.compile(optimizer = Adam(), loss = \"binary_crossentropy\", metrics = ['accuracy'])"
      ],
      "metadata": {
        "id": "40jiBchN0f9f"
      },
      "execution_count": 62,
      "outputs": []
    },
    {
      "cell_type": "code",
      "source": [
        "callbacks = [tf.keras.callbacks.ModelCheckpoint('boundary_model_e10_bs32.h5', verbose = 1, save_best_only=True, save_weights_only=True)]"
      ],
      "metadata": {
        "id": "_smrNEGjiTFh"
      },
      "execution_count": 63,
      "outputs": []
    },
    {
      "cell_type": "code",
      "source": [
        "train_step = timage_generator.n/BATCH_SIZE\n",
        "val_step = vimage_generator.n/BATCH_SIZE\n",
        "\n",
        "model.fit(train_gen, steps_per_epoch = train_step, epochs= EPOCHS, validation_data = val_gen, validation_steps = val_step, callbacks = callbacks)"
      ],
      "metadata": {
        "colab": {
          "base_uri": "https://localhost:8080/",
          "height": 1000
        },
        "id": "BT3UoEWj1JPe",
        "outputId": "6bd106dc-7202-40b2-d5ed-2888cbff9627"
      },
      "execution_count": 64,
      "outputs": [
        {
          "output_type": "stream",
          "name": "stdout",
          "text": [
            "Epoch 1/10\n"
          ]
        },
        {
          "output_type": "error",
          "ename": "InvalidArgumentError",
          "evalue": "ignored",
          "traceback": [
            "\u001b[0;31m---------------------------------------------------------------------------\u001b[0m",
            "\u001b[0;31mInvalidArgumentError\u001b[0m                      Traceback (most recent call last)",
            "\u001b[0;32m<ipython-input-64-e4a673fa4185>\u001b[0m in \u001b[0;36m<module>\u001b[0;34m()\u001b[0m\n\u001b[1;32m      2\u001b[0m \u001b[0mval_step\u001b[0m \u001b[0;34m=\u001b[0m \u001b[0mvimage_generator\u001b[0m\u001b[0;34m.\u001b[0m\u001b[0mn\u001b[0m\u001b[0;34m/\u001b[0m\u001b[0mBATCH_SIZE\u001b[0m\u001b[0;34m\u001b[0m\u001b[0;34m\u001b[0m\u001b[0m\n\u001b[1;32m      3\u001b[0m \u001b[0;34m\u001b[0m\u001b[0m\n\u001b[0;32m----> 4\u001b[0;31m \u001b[0mmodel\u001b[0m\u001b[0;34m.\u001b[0m\u001b[0mfit\u001b[0m\u001b[0;34m(\u001b[0m\u001b[0mtrain_gen\u001b[0m\u001b[0;34m,\u001b[0m \u001b[0msteps_per_epoch\u001b[0m \u001b[0;34m=\u001b[0m \u001b[0mtrain_step\u001b[0m\u001b[0;34m,\u001b[0m \u001b[0mepochs\u001b[0m\u001b[0;34m=\u001b[0m \u001b[0mEPOCHS\u001b[0m\u001b[0;34m,\u001b[0m \u001b[0mvalidation_data\u001b[0m \u001b[0;34m=\u001b[0m \u001b[0mval_gen\u001b[0m\u001b[0;34m,\u001b[0m \u001b[0mvalidation_steps\u001b[0m \u001b[0;34m=\u001b[0m \u001b[0mval_step\u001b[0m\u001b[0;34m,\u001b[0m \u001b[0mcallbacks\u001b[0m \u001b[0;34m=\u001b[0m \u001b[0mcallbacks\u001b[0m\u001b[0;34m)\u001b[0m\u001b[0;34m\u001b[0m\u001b[0;34m\u001b[0m\u001b[0m\n\u001b[0m",
            "\u001b[0;32m/usr/local/lib/python3.7/dist-packages/keras/utils/traceback_utils.py\u001b[0m in \u001b[0;36merror_handler\u001b[0;34m(*args, **kwargs)\u001b[0m\n\u001b[1;32m     65\u001b[0m     \u001b[0;32mexcept\u001b[0m \u001b[0mException\u001b[0m \u001b[0;32mas\u001b[0m \u001b[0me\u001b[0m\u001b[0;34m:\u001b[0m  \u001b[0;31m# pylint: disable=broad-except\u001b[0m\u001b[0;34m\u001b[0m\u001b[0;34m\u001b[0m\u001b[0m\n\u001b[1;32m     66\u001b[0m       \u001b[0mfiltered_tb\u001b[0m \u001b[0;34m=\u001b[0m \u001b[0m_process_traceback_frames\u001b[0m\u001b[0;34m(\u001b[0m\u001b[0me\u001b[0m\u001b[0;34m.\u001b[0m\u001b[0m__traceback__\u001b[0m\u001b[0;34m)\u001b[0m\u001b[0;34m\u001b[0m\u001b[0;34m\u001b[0m\u001b[0m\n\u001b[0;32m---> 67\u001b[0;31m       \u001b[0;32mraise\u001b[0m \u001b[0me\u001b[0m\u001b[0;34m.\u001b[0m\u001b[0mwith_traceback\u001b[0m\u001b[0;34m(\u001b[0m\u001b[0mfiltered_tb\u001b[0m\u001b[0;34m)\u001b[0m \u001b[0;32mfrom\u001b[0m \u001b[0;32mNone\u001b[0m\u001b[0;34m\u001b[0m\u001b[0;34m\u001b[0m\u001b[0m\n\u001b[0m\u001b[1;32m     68\u001b[0m     \u001b[0;32mfinally\u001b[0m\u001b[0;34m:\u001b[0m\u001b[0;34m\u001b[0m\u001b[0;34m\u001b[0m\u001b[0m\n\u001b[1;32m     69\u001b[0m       \u001b[0;32mdel\u001b[0m \u001b[0mfiltered_tb\u001b[0m\u001b[0;34m\u001b[0m\u001b[0;34m\u001b[0m\u001b[0m\n",
            "\u001b[0;32m/usr/local/lib/python3.7/dist-packages/tensorflow/python/eager/execute.py\u001b[0m in \u001b[0;36mquick_execute\u001b[0;34m(op_name, num_outputs, inputs, attrs, ctx, name)\u001b[0m\n\u001b[1;32m     53\u001b[0m     \u001b[0mctx\u001b[0m\u001b[0;34m.\u001b[0m\u001b[0mensure_initialized\u001b[0m\u001b[0;34m(\u001b[0m\u001b[0;34m)\u001b[0m\u001b[0;34m\u001b[0m\u001b[0;34m\u001b[0m\u001b[0m\n\u001b[1;32m     54\u001b[0m     tensors = pywrap_tfe.TFE_Py_Execute(ctx._handle, device_name, op_name,\n\u001b[0;32m---> 55\u001b[0;31m                                         inputs, attrs, num_outputs)\n\u001b[0m\u001b[1;32m     56\u001b[0m   \u001b[0;32mexcept\u001b[0m \u001b[0mcore\u001b[0m\u001b[0;34m.\u001b[0m\u001b[0m_NotOkStatusException\u001b[0m \u001b[0;32mas\u001b[0m \u001b[0me\u001b[0m\u001b[0;34m:\u001b[0m\u001b[0;34m\u001b[0m\u001b[0;34m\u001b[0m\u001b[0m\n\u001b[1;32m     57\u001b[0m     \u001b[0;32mif\u001b[0m \u001b[0mname\u001b[0m \u001b[0;32mis\u001b[0m \u001b[0;32mnot\u001b[0m \u001b[0;32mNone\u001b[0m\u001b[0;34m:\u001b[0m\u001b[0;34m\u001b[0m\u001b[0;34m\u001b[0m\u001b[0m\n",
            "\u001b[0;31mInvalidArgumentError\u001b[0m: Graph execution error:\n\nDetected at node 'model_8/conv2d_transpose_32/conv2d_transpose' defined at (most recent call last):\n    File \"/usr/lib/python3.7/runpy.py\", line 193, in _run_module_as_main\n      \"__main__\", mod_spec)\n    File \"/usr/lib/python3.7/runpy.py\", line 85, in _run_code\n      exec(code, run_globals)\n    File \"/usr/local/lib/python3.7/dist-packages/ipykernel_launcher.py\", line 16, in <module>\n      app.launch_new_instance()\n    File \"/usr/local/lib/python3.7/dist-packages/traitlets/config/application.py\", line 846, in launch_instance\n      app.start()\n    File \"/usr/local/lib/python3.7/dist-packages/ipykernel/kernelapp.py\", line 499, in start\n      self.io_loop.start()\n    File \"/usr/local/lib/python3.7/dist-packages/tornado/platform/asyncio.py\", line 132, in start\n      self.asyncio_loop.run_forever()\n    File \"/usr/lib/python3.7/asyncio/base_events.py\", line 541, in run_forever\n      self._run_once()\n    File \"/usr/lib/python3.7/asyncio/base_events.py\", line 1786, in _run_once\n      handle._run()\n    File \"/usr/lib/python3.7/asyncio/events.py\", line 88, in _run\n      self._context.run(self._callback, *self._args)\n    File \"/usr/local/lib/python3.7/dist-packages/tornado/platform/asyncio.py\", line 122, in _handle_events\n      handler_func(fileobj, events)\n    File \"/usr/local/lib/python3.7/dist-packages/tornado/stack_context.py\", line 300, in null_wrapper\n      return fn(*args, **kwargs)\n    File \"/usr/local/lib/python3.7/dist-packages/zmq/eventloop/zmqstream.py\", line 577, in _handle_events\n      self._handle_recv()\n    File \"/usr/local/lib/python3.7/dist-packages/zmq/eventloop/zmqstream.py\", line 606, in _handle_recv\n      self._run_callback(callback, msg)\n    File \"/usr/local/lib/python3.7/dist-packages/zmq/eventloop/zmqstream.py\", line 556, in _run_callback\n      callback(*args, **kwargs)\n    File \"/usr/local/lib/python3.7/dist-packages/tornado/stack_context.py\", line 300, in null_wrapper\n      return fn(*args, **kwargs)\n    File \"/usr/local/lib/python3.7/dist-packages/ipykernel/kernelbase.py\", line 283, in dispatcher\n      return self.dispatch_shell(stream, msg)\n    File \"/usr/local/lib/python3.7/dist-packages/ipykernel/kernelbase.py\", line 233, in dispatch_shell\n      handler(stream, idents, msg)\n    File \"/usr/local/lib/python3.7/dist-packages/ipykernel/kernelbase.py\", line 399, in execute_request\n      user_expressions, allow_stdin)\n    File \"/usr/local/lib/python3.7/dist-packages/ipykernel/ipkernel.py\", line 208, in do_execute\n      res = shell.run_cell(code, store_history=store_history, silent=silent)\n    File \"/usr/local/lib/python3.7/dist-packages/ipykernel/zmqshell.py\", line 537, in run_cell\n      return super(ZMQInteractiveShell, self).run_cell(*args, **kwargs)\n    File \"/usr/local/lib/python3.7/dist-packages/IPython/core/interactiveshell.py\", line 2718, in run_cell\n      interactivity=interactivity, compiler=compiler, result=result)\n    File \"/usr/local/lib/python3.7/dist-packages/IPython/core/interactiveshell.py\", line 2828, in run_ast_nodes\n      if self.run_code(code, result):\n    File \"/usr/local/lib/python3.7/dist-packages/IPython/core/interactiveshell.py\", line 2882, in run_code\n      exec(code_obj, self.user_global_ns, self.user_ns)\n    File \"<ipython-input-64-e4a673fa4185>\", line 4, in <module>\n      model.fit(train_gen, steps_per_epoch = train_step, epochs= EPOCHS, validation_data = val_gen, validation_steps = val_step, callbacks = callbacks)\n    File \"/usr/local/lib/python3.7/dist-packages/keras/utils/traceback_utils.py\", line 64, in error_handler\n      return fn(*args, **kwargs)\n    File \"/usr/local/lib/python3.7/dist-packages/keras/engine/training.py\", line 1384, in fit\n      tmp_logs = self.train_function(iterator)\n    File \"/usr/local/lib/python3.7/dist-packages/keras/engine/training.py\", line 1021, in train_function\n      return step_function(self, iterator)\n    File \"/usr/local/lib/python3.7/dist-packages/keras/engine/training.py\", line 1010, in step_function\n      outputs = model.distribute_strategy.run(run_step, args=(data,))\n    File \"/usr/local/lib/python3.7/dist-packages/keras/engine/training.py\", line 1000, in run_step\n      outputs = model.train_step(data)\n    File \"/usr/local/lib/python3.7/dist-packages/keras/engine/training.py\", line 859, in train_step\n      y_pred = self(x, training=True)\n    File \"/usr/local/lib/python3.7/dist-packages/keras/utils/traceback_utils.py\", line 64, in error_handler\n      return fn(*args, **kwargs)\n    File \"/usr/local/lib/python3.7/dist-packages/keras/engine/base_layer.py\", line 1096, in __call__\n      outputs = call_fn(inputs, *args, **kwargs)\n    File \"/usr/local/lib/python3.7/dist-packages/keras/utils/traceback_utils.py\", line 92, in error_handler\n      return fn(*args, **kwargs)\n    File \"/usr/local/lib/python3.7/dist-packages/keras/engine/functional.py\", line 452, in call\n      inputs, training=training, mask=mask)\n    File \"/usr/local/lib/python3.7/dist-packages/keras/engine/functional.py\", line 589, in _run_internal_graph\n      outputs = node.layer(*args, **kwargs)\n    File \"/usr/local/lib/python3.7/dist-packages/keras/utils/traceback_utils.py\", line 64, in error_handler\n      return fn(*args, **kwargs)\n    File \"/usr/local/lib/python3.7/dist-packages/keras/engine/base_layer.py\", line 1096, in __call__\n      outputs = call_fn(inputs, *args, **kwargs)\n    File \"/usr/local/lib/python3.7/dist-packages/keras/utils/traceback_utils.py\", line 92, in error_handler\n      return fn(*args, **kwargs)\n    File \"/usr/local/lib/python3.7/dist-packages/keras/layers/convolutional.py\", line 1343, in call\n      dilation_rate=self.dilation_rate)\n    File \"/usr/local/lib/python3.7/dist-packages/keras/backend.py\", line 5722, in conv2d_transpose\n      data_format=tf_data_format)\nNode: 'model_8/conv2d_transpose_32/conv2d_transpose'\nConv2DSlowBackpropInput: Size of out_backprop doesn't match computed: actual = 16, computed = 32 spatial_dim: 2 input: 64 filter: 2 output: 16 stride: 2 dilation: 1\n\t [[{{node model_8/conv2d_transpose_32/conv2d_transpose}}]] [Op:__inference_train_function_19434]"
          ]
        }
      ]
    },
    {
      "cell_type": "code",
      "source": [
        ""
      ],
      "metadata": {
        "id": "TWq-sbQKSkNE"
      },
      "execution_count": null,
      "outputs": []
    }
  ],
  "metadata": {
    "accelerator": "GPU",
    "colab": {
      "machine_shape": "hm",
      "name": "boundary_model.ipynb",
      "provenance": []
    },
    "gpuClass": "standard",
    "kernelspec": {
      "display_name": "Python 3.9.12 ('base')",
      "language": "python",
      "name": "python3"
    },
    "language_info": {
      "codemirror_mode": {
        "name": "ipython",
        "version": 3
      },
      "file_extension": ".py",
      "mimetype": "text/x-python",
      "name": "python",
      "nbconvert_exporter": "python",
      "pygments_lexer": "ipython3",
      "version": "3.9.12"
    },
    "orig_nbformat": 4,
    "vscode": {
      "interpreter": {
        "hash": "594cbcb53b7eb24b01ad1ace3292a9583de43e996a12a214afbcf4f5a5715dd8"
      }
    }
  },
  "nbformat": 4,
  "nbformat_minor": 0
}