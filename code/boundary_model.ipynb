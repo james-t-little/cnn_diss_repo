{
  "cells": [
    {
      "cell_type": "code",
      "execution_count": 21,
      "metadata": {
        "id": "B50YBse-ZQT3"
      },
      "outputs": [],
      "source": [
        "import pandas as pd\n",
        "import numpy as np\n",
        "import os\n",
        "import random\n",
        "import matplotlib.pyplot as plt\n",
        "import cv2\n",
        "from google.colab import drive\n",
        "\n",
        "import keras\n",
        "import tensorflow as tf\n",
        "from keras.models import Sequential, Model\n",
        "from keras_preprocessing.image import ImageDataGenerator\n",
        "from keras.layers import Activation, Dropout, Conv2D, MaxPool2D, Input, concatenate, Conv2DTranspose\n",
        "from keras.layers.convolutional import MaxPooling2D\n",
        "from tensorflow.keras.optimizers import Adam\n",
        "from sklearn.model_selection import train_test_split\n",
        "\n",
        "AUTOTUNE = tf.data.experimental.AUTOTUNE\n",
        "\n",
        "seed = random.randint(1, 100)"
      ]
    },
    {
      "cell_type": "code",
      "execution_count": 22,
      "metadata": {
        "colab": {
          "base_uri": "https://localhost:8080/"
        },
        "id": "pVYDeaWGZQT5",
        "outputId": "4607dfe7-07ac-460a-dbc0-a760e5e04e31"
      },
      "outputs": [
        {
          "output_type": "stream",
          "name": "stdout",
          "text": [
            "Drive already mounted at /content/drive; to attempt to forcibly remount, call drive.mount(\"/content/drive\", force_remount=True).\n"
          ]
        }
      ],
      "source": [
        "drive.mount('/content/drive')\n",
        "\n",
        "IMG_SIZE = 256\n",
        "\n",
        "if IMG_SIZE == 256:\n",
        "    path = '/content/drive/My Drive/parcel_boundaries_dataset/patched_data/256'\n",
        "elif IMG_SIZE == 512:\n",
        "    path = '/content/drive/My Drive/parcel_boundaries_dataset/patched_data/512'\n",
        "\n",
        "input_path = os.path.join(path,\"image\")\n",
        "mask_path = os.path.join(path,\"binary_mask\")"
      ]
    },
    {
      "cell_type": "code",
      "execution_count": 23,
      "metadata": {
        "id": "AKuBMcLbGzDH"
      },
      "outputs": [],
      "source": [
        "image_input_path = sorted([os.path.join(input_path, fname) for fname in os.listdir(input_path) if fname.endswith(\".png\") ])\n",
        "\n",
        "image_mask_path = sorted([os.path.join(mask_path, fname) for fname in os.listdir(mask_path) if fname.endswith(\".png\")])\n",
        "\n",
        "path_df = pd.DataFrame({'image':image_input_path,'mask':image_mask_path})"
      ]
    },
    {
      "cell_type": "code",
      "execution_count": 24,
      "metadata": {
        "id": "ObA2CrzrGzDH"
      },
      "outputs": [],
      "source": [
        "train, val = train_test_split(path_df,test_size=0.1, random_state=seed)\n",
        "\n",
        "train, test = train_test_split(train,test_size=0.11, random_state=seed)"
      ]
    },
    {
      "cell_type": "code",
      "execution_count": 25,
      "metadata": {
        "colab": {
          "base_uri": "https://localhost:8080/"
        },
        "id": "4r36Q5P3GzDI",
        "outputId": "415c47e5-d063-4966-a61e-b3e45b370483"
      },
      "outputs": [
        {
          "output_type": "stream",
          "name": "stdout",
          "text": [
            "Found 3114 validated image filenames.\n",
            "Found 3114 validated image filenames.\n",
            "Found 389 validated image filenames.\n",
            "Found 389 validated image filenames.\n",
            "Found 385 validated image filenames.\n",
            "Found 385 validated image filenames.\n"
          ]
        }
      ],
      "source": [
        "EPOCHS = 65\n",
        "BATCH_SIZE = 16\n",
        "\n",
        "imagegen = ImageDataGenerator(rescale=1/255, \n",
        "                            rotation_range=0.2,\n",
        "                            width_shift_range=0.1,\n",
        "                            height_shift_range=0.1,\n",
        "                            zoom_range=0.20,\n",
        "                            horizontal_flip=True)\n",
        "\n",
        "maskgen = ImageDataGenerator(rescale=1/255, \n",
        "                            rotation_range=0.2,\n",
        "                            width_shift_range=0.1,\n",
        "                            height_shift_range=0.1,\n",
        "                            zoom_range=0.20,\n",
        "                            horizontal_flip=True)\n",
        "\n",
        "def create_generator(generator, dataframe, colour_mode, batch_size, column):\n",
        "    generator = generator.flow_from_dataframe(dataframe=dataframe,\n",
        "                                    x_col=column,\n",
        "                                    batch_size= batch_size,\n",
        "                                    seed=seed,\n",
        "                                    class_mode=None,\n",
        "                                    color_mode=colour_mode) \n",
        "    return generator\n",
        "\n",
        "train_img_gen = create_generator(imagegen, train, 'rgb', BATCH_SIZE, \"image\")\n",
        "\n",
        "train_mask_gen = create_generator(maskgen, train, 'grayscale', BATCH_SIZE, \"mask\")\n",
        "\n",
        "imagegen = ImageDataGenerator(rescale=1/255)\n",
        "maskgen = ImageDataGenerator(rescale=1/255)\n",
        "\n",
        "val_image_gen = create_generator(imagegen, val, 'rgb', BATCH_SIZE, \"image\")\n",
        "\n",
        "val_mask_gen = create_generator(maskgen, val, 'grayscale', BATCH_SIZE, \"mask\")\n",
        "\n",
        "test_image_gen = create_generator(imagegen, test, 'rgb', BATCH_SIZE, \"image\")\n",
        "\n",
        "test_mask_gen = create_generator(maskgen, test, 'grayscale', BATCH_SIZE, \"mask\")\n",
        "\n",
        "def zip_pair(image_gen,mask_gen):\n",
        "    for img, mask in zip(image_gen,mask_gen):\n",
        "        yield img, mask\n",
        "\n",
        "train_gen = zip_pair(train_img_gen, train_mask_gen)\n",
        "val_gen = zip_pair(val_image_gen,val_mask_gen)\n",
        "test_gen = zip_pair(test_image_gen,val_mask_gen)"
      ]
    },
    {
      "cell_type": "code",
      "execution_count": 26,
      "metadata": {
        "id": "9nyofPxQIGPe"
      },
      "outputs": [],
      "source": [
        "def convolutional_layer_block(previous_layer, filter_size, kernel):\n",
        "        x = Conv2D(filter_size, kernel, activation='relu', kernel_initializer='he_normal', padding='same')(previous_layer)\n",
        "        x = Dropout(0.05)(x)\n",
        "        x = Conv2D(filter_size, kernel, activation='relu', kernel_initializer='he_normal', padding='same')(x)\n",
        "        return x\n",
        "\n",
        "def u_net(img_shape, n_classes, filter_start):\n",
        "    inputs = Input(shape=img_shape)\n",
        "    previous_layer = inputs\n",
        "\n",
        "    filter_list = [filter_start, filter_start * 2, filter_start * 4, filter_start * 8]\n",
        "\n",
        "    concatenate_link = []\n",
        "    for filter_size in filter_list:\n",
        "        x = convolutional_layer_block(previous_layer, filter_size, (3,3))\n",
        "        concatenate_link.append(x)\n",
        "        x = MaxPooling2D((2, 2))(x)\n",
        "        previous_layer = x\n",
        "\n",
        "    concatenate_link = list(reversed(concatenate_link))\n",
        "    x = convolutional_layer_block(previous_layer, 256, (3,3))\n",
        "    previous_layer = x\n",
        "\n",
        "    for count,filter_size in enumerate(filter_list.reverse()):\n",
        "        x = Conv2DTranspose(filter_size, (2, 2), strides=(2, 2), padding='same')(previous_layer)\n",
        "        x = concatenate([x, concatenate_link[count]], axis = 3)\n",
        "        convolutional_layer_block(x, filter_size, (3,3))\n",
        "        previous_layer = x\n",
        "\n",
        "    if n_classes == 1:\n",
        "        activation = 'sigmoid'\n",
        "    else:\n",
        "        activation = 'softmax'\n",
        "\n",
        "    outputs = Conv2D(n_classes, kernel_size=(1, 1), activation=activation)(previous_layer)\n",
        "\n",
        "    return Model(inputs=inputs, outputs=outputs)\n",
        "\n",
        "model = u_net((IMG_SIZE, IMG_SIZE, 3), n_classes = 1, filter_start = 32)"
      ]
    },
    {
      "cell_type": "code",
      "execution_count": null,
      "metadata": {
        "id": "BT3UoEWj1JPe",
        "outputId": "966121aa-ce07-41a0-f256-cf9f94cb6dec",
        "colab": {
          "base_uri": "https://localhost:8080/"
        }
      },
      "outputs": [
        {
          "output_type": "stream",
          "name": "stdout",
          "text": [
            "Epoch 1/65\n",
            "  9/194 [>.............................] - ETA: 37:47 - loss: 0.5275 - accuracy: 0.7562"
          ]
        }
      ],
      "source": [
        "model.compile(optimizer = Adam(), loss = \"binary_crossentropy\", metrics = ['accuracy'])\n",
        "\n",
        "callbacks = [tf.keras.callbacks.ModelCheckpoint((\"/content/drive/MyDrive/\"+'boundary_model_e65_bs16.h5'), verbose = 1, save_best_only=True, save_weights_only=True)]\n",
        "\n",
        "train_step = train_img_gen.n / BATCH_SIZE\n",
        "val_step = val_mask_gen.n / BATCH_SIZE\n",
        "\n",
        "trained_model = model.fit(train_gen, steps_per_epoch = train_step, epochs= EPOCHS, validation_data = val_gen, validation_steps = val_step, callbacks = callbacks)"
      ]
    },
    {
      "cell_type": "code",
      "execution_count": null,
      "metadata": {
        "id": "t312R85VhW8H"
      },
      "outputs": [],
      "source": [
        "loss = trained_model.history['loss']\n",
        "val_loss = trained_model.history['val_loss']\n",
        "accuracy = trained_model.history['accuracy']\n",
        "val_accuracy = trained_model.history['val_accuracy']\n",
        "\n",
        "\n",
        "def plot_training_data(graph_name, train_metric, val_metric):\n",
        "    plt.figure(figsize = (8,8))\n",
        "    plt.plot(train_metric, label = \"Train\")\n",
        "    plt.plot(val_metric, label = \"Validation\")\n",
        "    plt.title(graph_name)\n",
        "    plt.legend(loc=\"upper left\")\n",
        "    plt.show()\n",
        "    \n",
        "plot_training_data(\"Training and Validation Loss\", loss, val_loss)"
      ]
    },
    {
      "cell_type": "code",
      "execution_count": null,
      "metadata": {
        "id": "ZENR52yCvOPP"
      },
      "outputs": [],
      "source": [
        "plot_training_data(\"Training and Validation Accuracy\", accuracy, val_accuracy)"
      ]
    },
    {
      "cell_type": "code",
      "execution_count": null,
      "metadata": {
        "id": "m-F85U67IGAu"
      },
      "outputs": [],
      "source": [
        "model.save(\"/content/drive/MyDrive/\"+'boundary_model_e65_bs16.h5')"
      ]
    },
    {
      "cell_type": "code",
      "execution_count": null,
      "metadata": {
        "id": "LlyJh2C2-4Gv"
      },
      "outputs": [],
      "source": [
        "def predict_img(img_path,mask_path):\n",
        "    image = cv2.imread(img_path)\n",
        "    mask = cv2.imread(mask_path)\n",
        "    image = cv2.resize(image, (IMG_SIZE,IMG_SIZE))\n",
        "    image = image/255\n",
        "    image = image[np.newaxis,:,:,:]\n",
        "    pred_mask = model.predict(image) \n",
        "    return image, mask, pred_mask\n",
        "\n",
        "def show_prediction(img,mask,pred_mask):\n",
        "    plt.figure(figsize=(30,30))\n",
        "    plt.subplot(1,5,1)\n",
        "    plt.imshow(np.squeeze(img))\n",
        "    plt.title('Image')\n",
        "    plt.subplot(1,5,2)\n",
        "    plt.imshow(np.squeeze(mask))\n",
        "    plt.title('Mask')\n",
        "    plt.subplot(1,5,3)\n",
        "    plt.imshow(np.squeeze(pred_mask))\n",
        "    plt.title('Predicted Mask')\n",
        "    plt.subplot(1,5,4)\n",
        "    plt.imshow(np.squeeze(pred_mask) > 0.2)\n",
        "    plt.title('Binary Mask Prediciton (< 50% Confidence)')\n",
        "    plt.subplot(1,5,5)\n",
        "    plt.imshow(np.squeeze(pred_mask) > 0.35)\n",
        "    plt.title('Binary Mask Prediciton (< 17.5% Confidence)')\n",
        "    plt.show()\n",
        "\n",
        "for num in range(5):\n",
        "    index = random.randint(1, len(path_df))\n",
        "    img_path = path_df['image'][index]\n",
        "    mask_path = path_df['mask'][index]\n",
        "    img,mask,pred_mask =  predict_img(img_path,mask_path)\n",
        "    show_prediction(img,mask,pred_mask)"
      ]
    },
    {
      "cell_type": "code",
      "execution_count": null,
      "metadata": {
        "id": "2SIKZlwnLS8Z"
      },
      "outputs": [],
      "source": [
        ""
      ]
    }
  ],
  "metadata": {
    "accelerator": "GPU",
    "colab": {
      "machine_shape": "hm",
      "name": "boundary_model.ipynb",
      "provenance": []
    },
    "gpuClass": "standard",
    "kernelspec": {
      "display_name": "Python 3.9.7 ('base')",
      "language": "python",
      "name": "python3"
    },
    "language_info": {
      "codemirror_mode": {
        "name": "ipython",
        "version": 3
      },
      "file_extension": ".py",
      "mimetype": "text/x-python",
      "name": "python",
      "nbconvert_exporter": "python",
      "pygments_lexer": "ipython3",
      "version": "3.9.7"
    },
    "orig_nbformat": 4,
    "vscode": {
      "interpreter": {
        "hash": "02e30a1944b2587bb1294f2383a42da531eec4184971017897223c044f6bc1ae"
      }
    }
  },
  "nbformat": 4,
  "nbformat_minor": 0
}