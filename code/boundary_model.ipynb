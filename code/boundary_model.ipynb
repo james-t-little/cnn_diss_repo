{
  "cells": [
    {
      "cell_type": "code",
      "execution_count": null,
      "metadata": {
        "id": "B50YBse-ZQT3"
      },
      "outputs": [],
      "source": [
        "import pandas as pd\n",
        "import numpy as np\n",
        "import os\n",
        "import random\n",
        "import PIL\n",
        "from google.colab import drive\n",
        "from PIL import Image, ImageOps\n",
        "from tqdm import tqdm\n",
        "from collections import Counter\n",
        "import tensorflow as tf\n",
        "import matplotlib.pyplot as plt\n",
        "\n",
        "from keras.models import Sequential\n",
        "from keras_preprocessing.image import ImageDataGenerator\n",
        "from keras.layers import Dense, Activation, Flatten, Dropout, BatchNormalization, GaussianNoise\n",
        "from keras.layers import Conv2D, MaxPool2D, Input, concatenate, Conv2DTranspose\n",
        "from keras.layers.convolutional import MaxPooling2D\n",
        "from keras import regularizers, optimizers\n",
        "import keras\n",
        "from keras.models import Model\n",
        "from tensorflow.keras.optimizers import Adam\n",
        "from keras.callbacks import EarlyStopping\n",
        "from tensorflow.keras.applications import VGG16, InceptionV3\n",
        "from sklearn.model_selection import train_test_split\n",
        "import tensorflow as tf\n",
        "\n",
        "AUTOTUNE = tf.data.experimental.AUTOTUNE\n",
        "\n",
        "seed = random.randint(1, 100)"
      ]
    },
    {
      "cell_type": "code",
      "execution_count": null,
      "metadata": {
        "colab": {
          "base_uri": "https://localhost:8080/"
        },
        "id": "pVYDeaWGZQT5",
        "outputId": "17c69466-a5f7-4a2a-e04b-82d9649f8cb5"
      },
      "outputs": [
        {
          "output_type": "stream",
          "name": "stdout",
          "text": [
            "Drive already mounted at /content/drive; to attempt to forcibly remount, call drive.mount(\"/content/drive\", force_remount=True).\n"
          ]
        }
      ],
      "source": [
        "drive.mount('/content/drive')\n",
        "\n",
        "IMG_SIZE = 512\n",
        "\n",
        "if IMG_SIZE == 256:\n",
        "    path = '/content/drive/My Drive/parcel_boundaries_dataset/patched_data/256'\n",
        "elif IMG_SIZE == 512:\n",
        "    path = '/content/drive/My Drive/parcel_boundaries_dataset/patched_data/512'\n",
        "\n",
        "input_path = os.path.join(path,\"image\")\n",
        "mask_path = os.path.join(path,\"mask\")"
      ]
    },
    {
      "cell_type": "code",
      "execution_count": null,
      "metadata": {
        "id": "AKuBMcLbGzDH",
        "outputId": "6952a439-b0c1-4284-876f-c1c193a9418d",
        "colab": {
          "base_uri": "https://localhost:8080/"
        }
      },
      "outputs": [
        {
          "output_type": "execute_result",
          "data": {
            "text/plain": [
              "1368"
            ]
          },
          "metadata": {},
          "execution_count": 14
        }
      ],
      "source": [
        "image_input_path = sorted([ os.path.join(input_path, fname) for fname in os.listdir(input_path) if fname.endswith(\".png\") ])\n",
        "\n",
        "image_mask_path = sorted([ os.path.join(mask_path, fname) for fname in os.listdir(mask_path) if fname.endswith(\".png\")])\n",
        "\n",
        "path_df = pd.DataFrame({'image':image_input_path,'mask':image_mask_path})\n",
        "\n"
      ]
    },
    {
      "cell_type": "code",
      "execution_count": null,
      "metadata": {
        "id": "ObA2CrzrGzDH"
      },
      "outputs": [],
      "source": [
        "train, val = train_test_split(path_df,test_size=0.25, random_state=seed)\n",
        "\n"
      ]
    },
    {
      "cell_type": "code",
      "execution_count": null,
      "metadata": {
        "id": "4r36Q5P3GzDI"
      },
      "outputs": [],
      "source": [
        "#https://www.kaggle.com/code/iasonasxrist/mri-brain-tumour-segmentation-with-unet-cnn/notebook\n",
        "\n",
        "EPOCHS = 35\n",
        "BATCH_SIZE = 32\n",
        "ImgHeight = 256\n",
        "ImgWidth = 256\n",
        "Channels = 3\n",
        "\n",
        "data_augmentation = dict(rotation_range=0.2,\n",
        "                        width_shift_range=0.05,\n",
        "                        height_shift_range=0.05,\n",
        "                        shear_range=0.05,\n",
        "                        zoom_range=0.05,\n",
        "                        horizontal_flip=True)\n",
        "\n",
        "imagegen = ImageDataGenerator(rescale=1./255., **data_augmentation)\n",
        "maskgen = ImageDataGenerator(rescale=1./255., **data_augmentation)\n",
        "\n",
        "timage_generator=imagegen.flow_from_dataframe(dataframe=train,\n",
        "                                            x_col=\"image\",\n",
        "                                            batch_size= BATCH_SIZE,\n",
        "                                            seed=seed,\n",
        "                                            class_mode=None,\n",
        "                                            target_size=(ImgHeight,ImgWidth),\n",
        "                                            color_mode='rgb')\n",
        "\n",
        "tmask_generator=maskgen.flow_from_dataframe(dataframe=train,\n",
        "                                            x_col=\"mask\",\n",
        "                                            batch_size=BATCH_SIZE,\n",
        "                                            seed=seed,\n",
        "                                            class_mode=None,\n",
        "                                            target_size=(ImgHeight,ImgWidth),\n",
        "                                            color_mode='grayscale')\n",
        "\n",
        "# image generator\n",
        "imagegen = ImageDataGenerator(rescale=1./255.)\n",
        "maskgen = ImageDataGenerator(rescale=1./255.)\n",
        "\n",
        "#train generator\n",
        "vimage_generator = imagegen.flow_from_dataframe(dataframe=val,\n",
        "                                             x_col = \"image\",\n",
        "                                             batch_size = BATCH_SIZE,\n",
        "                                             seed=seed,\n",
        "                                             class_mode=None,\n",
        "                                             target_size = (ImgHeight,ImgWidth),\n",
        "                                             color_mode='rgb')\n",
        "# validation data generator\n",
        "vmask_generator = maskgen.flow_from_dataframe(dataframe=val,\n",
        "                                             x_col = \"mask\",\n",
        "                                             batch_size = BATCH_SIZE,\n",
        "                                             seed=seed,\n",
        "                                             class_mode=None,\n",
        "                                             target_size = (ImgHeight,ImgWidth),\n",
        "                                             color_mode='grayscale')\n",
        "\n",
        "\n",
        "def data_iterator(image_gen,mask_gen):\n",
        "    for img, mask in zip(image_gen,mask_gen):\n",
        "        yield img, mask\n",
        "\n",
        "train_gen = data_iterator(timage_generator, tmask_generator)\n",
        "val_gen = data_iterator(vimage_generator,vmask_generator)"
      ]
    },
    {
      "cell_type": "code",
      "source": [
        "def convolutional_layer_block(previous_layer, filter_size, kernel):\n",
        "        x = Conv2D(filter_size, (3, 3), activation='relu', kernel_initializer='he_normal', padding='same')(previous_layer)\n",
        "        x = Dropout(0.2)(x)\n",
        "        x = Conv2D(filter_size, (3, 3), activation='relu', kernel_initializer='he_normal', padding='same')(x)\n",
        "        return x\n",
        "\n",
        "\n",
        "def u_net(img_shape, n_classes):\n",
        "    inputs = Input(shape=img_shape)\n",
        "    previous_layer = inputs\n",
        "\n",
        "    concatenate_link = []\n",
        "    for filter_size in [32, 64, 128, 256]:\n",
        "        x = convolutional_layer_block(previous_layer, filter_size, (3,3))\n",
        "        concatenate_link.append(x)\n",
        "        x = MaxPooling2D((2, 2))(x)\n",
        "        previous_layer = x\n",
        "\n",
        "    concatenate_link = list(reversed(concatenate_link))\n",
        "    x = convolutional_layer_block(previous_layer, 512, (3,3))\n",
        "    previous_layer = x\n",
        "\n",
        "    for count,filter_size in enumerate([256, 128, 64, 32]):\n",
        "        x = Conv2DTranspose(filter_size, (2, 2), strides=(2, 2), padding='same')(previous_layer)\n",
        "        x = concatenate([x, concatenate_link[count]]])\n",
        "        convolutional_layer_block(x, filter_size, (3,3))\n",
        "        previous_layer = x\n",
        "\n",
        "    if n_classes == 1:\n",
        "        activation = 'sigmoid'\n",
        "    else:\n",
        "        activation = 'softmax'\n",
        "\n",
        "    outputs = Conv2D(n_classes, kernel_size=(1, 1), activation=activation)(previous_layer)\n",
        "\n",
        "    return Model(inputs=inputs, outputs=outputs)\n",
        "\n",
        "\n",
        "model = u_net((IMG_SIZE, IMG_SIZE, 3), n_classes = 3)"
      ],
      "metadata": {
        "id": "9nyofPxQIGPe"
      },
      "execution_count": null,
      "outputs": []
    },
    {
      "cell_type": "code",
      "source": [
        "model.summary()"
      ],
      "metadata": {
        "id": "0OagqU7U0d-n"
      },
      "execution_count": null,
      "outputs": []
    },
    {
      "cell_type": "code",
      "source": [
        "model.compile(optimize = Adam(), loss = \"binary_crossentropy\", metrics = ['accuracy'])"
      ],
      "metadata": {
        "id": "40jiBchN0f9f"
      },
      "execution_count": null,
      "outputs": []
    },
    {
      "cell_type": "code",
      "source": [
        "train_step = timage_generator.n/BATCH_SIZE\n",
        "val_step = vimage_generator.n/BATCH_SIZE\n",
        "\n",
        "model.fit(train_gen, steps_per_epoch = train_step, epochs= EPOCHS, validation_data = val_gen, validation_steps = val_step)\n"
      ],
      "metadata": {
        "id": "BT3UoEWj1JPe"
      },
      "execution_count": null,
      "outputs": []
    }
  ],
  "metadata": {
    "accelerator": "GPU",
    "colab": {
      "machine_shape": "hm",
      "name": "boundary_model.ipynb",
      "provenance": []
    },
    "gpuClass": "standard",
    "kernelspec": {
      "display_name": "Python 3.9.12 ('base')",
      "language": "python",
      "name": "python3"
    },
    "language_info": {
      "codemirror_mode": {
        "name": "ipython",
        "version": 3
      },
      "file_extension": ".py",
      "mimetype": "text/x-python",
      "name": "python",
      "nbconvert_exporter": "python",
      "pygments_lexer": "ipython3",
      "version": "3.9.12"
    },
    "orig_nbformat": 4,
    "vscode": {
      "interpreter": {
        "hash": "594cbcb53b7eb24b01ad1ace3292a9583de43e996a12a214afbcf4f5a5715dd8"
      }
    }
  },
  "nbformat": 4,
  "nbformat_minor": 0
}