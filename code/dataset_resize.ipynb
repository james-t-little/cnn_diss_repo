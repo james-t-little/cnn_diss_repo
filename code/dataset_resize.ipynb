{
 "cells": [
  {
   "cell_type": "code",
   "execution_count": 20,
   "metadata": {},
   "outputs": [],
   "source": [
    "import numpy as np\n",
    "import os\n",
    "import random\n",
    "import PIL\n",
    "from PIL import Image\n",
    "from tqdm import tqdm"
   ]
  },
  {
   "cell_type": "code",
   "execution_count": 16,
   "metadata": {},
   "outputs": [],
   "source": [
    "path = r'C:\\Users\\james\\Documents\\dissertation_seg_data'\n",
    "\n",
    "input_path = os.path.join(path,\"input\")\n",
    "\n",
    "mask_path = os.path.join(path,\"mask\")\n",
    "\n",
    "image_input_path = sorted([ os.path.join(input_path, fname) for fname in os.listdir(input_path) if fname.endswith(\".png\") ])\n",
    "\n",
    "image_mask_path = sorted([ os.path.join(mask_path, fname) for fname in os.listdir(mask_path) if fname.endswith(\".png\")])"
   ]
  },
  {
   "cell_type": "code",
   "execution_count": 23,
   "metadata": {},
   "outputs": [
    {
     "name": "stderr",
     "output_type": "stream",
     "text": [
      "100%|██████████| 1306/1306 [14:51<00:00,  1.46it/s]\n"
     ]
    }
   ],
   "source": [
    "# method to resize all images in a folder\n",
    "def resize_data(image_input_path):\n",
    "    # loop through image paths\n",
    "    for image in tqdm(image_input_path):\n",
    "        # get file name from path\n",
    "        _, tail = os.path.split(os.path.splitext(image)[0])\n",
    "        # open image\n",
    "        img = Image.open(image)\n",
    "        # resize image\n",
    "        img = img.resize((round(img.shape[0]/2),round(img.shape[1]/2)))\n",
    "        # save image\n",
    "        img.save((path + '\\\\input_resize\\\\' + tail + '_resize.png'))\n",
    "    return"
   ]
  }
 ],
 "metadata": {
  "kernelspec": {
   "display_name": "Python 3.9.12 ('base')",
   "language": "python",
   "name": "python3"
  },
  "language_info": {
   "codemirror_mode": {
    "name": "ipython",
    "version": 3
   },
   "file_extension": ".py",
   "mimetype": "text/x-python",
   "name": "python",
   "nbconvert_exporter": "python",
   "pygments_lexer": "ipython3",
   "version": "3.9.12"
  },
  "orig_nbformat": 4,
  "vscode": {
   "interpreter": {
    "hash": "594cbcb53b7eb24b01ad1ace3292a9583de43e996a12a214afbcf4f5a5715dd8"
   }
  }
 },
 "nbformat": 4,
 "nbformat_minor": 2
}
