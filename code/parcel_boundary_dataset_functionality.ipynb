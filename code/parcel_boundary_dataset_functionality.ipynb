{
 "cells": [
  {
   "cell_type": "code",
   "execution_count": 2,
   "metadata": {},
   "outputs": [],
   "source": [
    "import numpy as np\n",
    "import os\n",
    "import random\n",
    "import PIL\n",
    "from PIL import Image\n",
    "from tqdm import tqdm\n",
    "from patchify import patchify\n",
    "\n",
    "root = r'C:\\Users\\james\\Documents\\parcel_boundary_data\\raw_data'\n",
    "\n",
    "folders = ['chicago','houston','newyork_boston','pheonix_arizona','seattle']"
   ]
  },
  {
   "cell_type": "code",
   "execution_count": 3,
   "metadata": {},
   "outputs": [],
   "source": [
    "# method to crop collected image data\n",
    "def crop_image(root,location,type): \n",
    "    # root path of data\n",
    "    location_path = os.path.join(root,location)\n",
    "    # select image or mask\n",
    "    path = os.path.join(location_path,type)\n",
    "    # sorted list of image paths\n",
    "    image_path = sorted([ os.path.join(path, fname) for fname in os.listdir(path) if fname.endswith(\".png\") ])\n",
    "    # loop through image paths, tqdm provides a progress to understand computation progess\n",
    "    for img_path in tqdm(image_path):\n",
    "        # open image at specific image path\n",
    "        img = Image.open(img_path)\n",
    "        # covert image to RGB\n",
    "        img = img.convert('RGB')\n",
    "        # specific crop coordinates\n",
    "        img = img.crop((44, 192, 2465, 1284))\n",
    "        # save image\n",
    "        img.save(img_path)\n",
    "    return\n",
    "    \n",
    "# function to loop through image to create binary parcel boundary mask\n",
    "def extract_parcel_boundaries(root,location):\n",
    "    location_path = os.path.join(root,location)\n",
    "    path = os.path.join(location_path,'mask')\n",
    "    image_path = sorted([ os.path.join(path, fname) for fname in os.listdir(path) if fname.endswith(\".png\") ])\n",
    "    for img_path in tqdm(image_path):\n",
    "        img = Image.open(img_path)\n",
    "        img = img.convert('RGB')\n",
    "        img = create_boundaries(img)\n",
    "        img.save(img_path)\n",
    "    return\n",
    "\n",
    "# function to create binary mask from original image\n",
    "def create_boundaries(img):\n",
    "    # loop from each pixel in image width then height\n",
    "    for width_trav in range(img.size[0]):\n",
    "        for height_trav in range(img.size[1]):\n",
    "            pixel = img.getpixel((width_trav,height_trav))\n",
    "            # if R pixel value > 130 and B pixel value > 130 reassign pixel as white\n",
    "            if pixel[1] >= 130 and pixel[2] >= 130:\n",
    "                img.putpixel((width_trav,height_trav),(255,255,255))\n",
    "            # else reassign black\n",
    "            else:\n",
    "                img.putpixel((width_trav,height_trav),(0,0,0))\n",
    "    return img\n",
    "\n",
    "# create image patches for single image\n",
    "def create_patches(img_path,patch_size,target_save_location):\n",
    "    head, tail = os.path.split(os.path.splitext(img_path)[0])\n",
    "    img = Image.open(img_path)\n",
    "    img = (np.array(img.convert('RGB')))\n",
    "    size_x = (img.shape[0] // patch_size) * patch_size  \n",
    "    size_y = (img.shape[1] // patch_size) * patch_size \n",
    "    img_patches = np.squeeze(patchify(np.array(img[0:size_x, 0:size_y]), (patch_size, patch_size, 3), step=patch_size))\n",
    "    count = 1 \n",
    "    for x in range(img_patches.shape[0]):\n",
    "        for y in range(img_patches.shape[1]):\n",
    "            patch = img_patches[x,y]\n",
    "            img = Image.fromarray(patch)\n",
    "            img.save((target_save_location + '\\\\' + tail + '_patch_' + str(count) + '.png'))\n",
    "            count += 1\n",
    "\n",
    "# loop through whole dataset and patch each image\n",
    "def patch_images(root,type,target,patch_size):\n",
    "    path = os.path.join(root,type)\n",
    "    image_path = sorted([ os.path.join(path, fname) for fname in os.listdir(path) if fname.endswith(\".png\") ])\n",
    "    for i in tqdm(image_path):\n",
    "        create_patches(i,patch_size,target)\n",
    "    return image_path"
   ]
  },
  {
   "cell_type": "code",
   "execution_count": null,
   "metadata": {},
   "outputs": [],
   "source": [
    "extract_parcel_boundaries(r'C:\\Users\\james\\Documents\\parcel_boundary_data\\raw_data\\data_by_location','la')"
   ]
  },
  {
   "cell_type": "code",
   "execution_count": 15,
   "metadata": {},
   "outputs": [],
   "source": [
    "create_patches(r'C:\\Users\\james\\Documents\\parcel_boundary_data\\raw_data\\data_by_type\\image\\chicago_boundary_1_image.png',256,r'C:\\Users\\james\\Documents\\parcel_boundary_data\\patched_data\\256\\image')"
   ]
  },
  {
   "cell_type": "code",
   "execution_count": null,
   "metadata": {},
   "outputs": [],
   "source": [
    "patch_images(r'C:\\Users\\james\\Documents\\parcel_boundary_data\\raw_data\\data_by_type','image',r'C:\\Users\\james\\Documents\\parcel_boundary_data\\patched_data\\256\\image',256)"
   ]
  }
 ],
 "metadata": {
  "kernelspec": {
   "display_name": "Python 3.9.12 ('base')",
   "language": "python",
   "name": "python3"
  },
  "language_info": {
   "codemirror_mode": {
    "name": "ipython",
    "version": 3
   },
   "file_extension": ".py",
   "mimetype": "text/x-python",
   "name": "python",
   "nbconvert_exporter": "python",
   "pygments_lexer": "ipython3",
   "version": "3.9.12"
  },
  "orig_nbformat": 4,
  "vscode": {
   "interpreter": {
    "hash": "594cbcb53b7eb24b01ad1ace3292a9583de43e996a12a214afbcf4f5a5715dd8"
   }
  }
 },
 "nbformat": 4,
 "nbformat_minor": 2
}
