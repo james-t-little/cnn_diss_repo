{
  "cells": [
    {
      "cell_type": "code",
      "execution_count": 21,
      "metadata": {
        "id": "B50YBse-ZQT3"
      },
      "outputs": [],
      "source": [
        "import pandas as pd\n",
        "import numpy as np\n",
        "import os\n",
        "import random\n",
        "import matplotlib.pyplot as plt\n",
        "import cv2\n",
        "from google.colab import drive\n",
        "from sklearn.model_selection import train_test_split\n",
        "\n",
        "import keras\n",
        "import tensorflow as tf\n",
        "from keras.models import Sequential, Model\n",
        "from keras_preprocessing.image import ImageDataGenerator\n",
        "from keras.layers import Activation, Dropout, Conv2D, MaxPool2D, Input, concatenate, Conv2DTranspose\n",
        "from keras.layers.convolutional import MaxPooling2D\n",
        "from tensorflow.keras.optimizers import Adam\n",
        "from sklearn.model_selection import train_test_split"
      ]
    },
    {
      "cell_type": "code",
      "execution_count": 22,
      "metadata": {
        "colab": {
          "base_uri": "https://localhost:8080/"
        },
        "id": "pVYDeaWGZQT5",
        "outputId": "4607dfe7-07ac-460a-dbc0-a760e5e04e31"
      },
      "outputs": [
        {
          "name": "stdout",
          "output_type": "stream",
          "text": [
            "Drive already mounted at /content/drive; to attempt to forcibly remount, call drive.mount(\"/content/drive\", force_remount=True).\n"
          ]
        }
      ],
      "source": [
        "AUTOTUNE = tf.data.experimental.AUTOTUNE\n",
        "SEED = 5\n",
        "\n",
        "# used to mount the data repository to the google colab session\n",
        "drive.mount('/content/drive')\n",
        "\n",
        "# depending on the image imagerys size\n",
        "IMG_SIZE = 256\n",
        "\n",
        "# selects correct file location for the data\n",
        "if IMG_SIZE == 256:\n",
        "    path = '/content/drive/My Drive/parcel_boundaries_dataset/patched_data/256'\n",
        "elif IMG_SIZE == 512:\n",
        "    path = '/content/drive/My Drive/parcel_boundaries_dataset/patched_data/512'\n",
        "\n",
        "# assigns a location path to both the image and mask of the segementation data\n",
        "input_path = os.path.join(path,\"image\")\n",
        "mask_path = os.path.join(path,\"binary_mask\")"
      ]
    },
    {
      "cell_type": "code",
      "execution_count": 23,
      "metadata": {
        "id": "AKuBMcLbGzDH"
      },
      "outputs": [],
      "source": [
        "# list individual image and mask paths for the dataset\n",
        "image_input_path = sorted([os.path.join(input_path, fname) for fname in os.listdir(input_path) if fname.endswith(\".png\") ])\n",
        "\n",
        "image_mask_path = sorted([os.path.join(mask_path, fname) for fname in os.listdir(mask_path) if fname.endswith(\".png\")])\n",
        "\n",
        "# place paths into a dataframe for later computation\n",
        "path_df = pd.DataFrame({'image':image_input_path,'mask':image_mask_path})"
      ]
    },
    {
      "cell_type": "code",
      "execution_count": 24,
      "metadata": {
        "id": "ObA2CrzrGzDH"
      },
      "outputs": [],
      "source": [
        "# split data into train, test and validation data\n",
        "train, val = train_test_split(path_df,test_size=0.1, random_state=SEED)\n",
        "train, test = train_test_split(train,test_size=0.11, random_state=SEED)\n",
        "\n",
        "# number of items in train and validation set\n",
        "size_train = train.shape[0]\n",
        "size_val = val.shape[0]\n",
        "size_test = test.shape[0]"
      ]
    },
    {
      "cell_type": "code",
      "execution_count": 25,
      "metadata": {
        "colab": {
          "base_uri": "https://localhost:8080/"
        },
        "id": "4r36Q5P3GzDI",
        "outputId": "415c47e5-d063-4966-a61e-b3e45b370483"
      },
      "outputs": [
        {
          "name": "stdout",
          "output_type": "stream",
          "text": [
            "Found 3114 validated image filenames.\n",
            "Found 3114 validated image filenames.\n",
            "Found 389 validated image filenames.\n",
            "Found 389 validated image filenames.\n",
            "Found 385 validated image filenames.\n",
            "Found 385 validated image filenames.\n"
          ]
        }
      ],
      "source": [
        "# set hyperparameter values\n",
        "EPOCHS = 65\n",
        "BATCH_SIZE = 16\n",
        "\n",
        "# instanciate image generator class with scaling and augmentation scheme for dataset\n",
        "gen = ImageDataGenerator(rescale=1/255, rotation_range=0.2, width_shift_range=0.1, height_shift_range=0.1, zoom_range=0.20, horizontal_flip=True)\n",
        "\n",
        "# instanciate again with no augmentation for validation and test data\n",
        "alt_gen = ImageDataGenerator(rescale=1/255)\n",
        "\n",
        "# generate dataset with assigned batch size and augmentation \n",
        "def create_data(generator, dataframe, colour_mode, batch_size, column):\n",
        "    data = generator.flow_from_dataframe(dataframe=dataframe, x_col=column, batch_size=batch_size, class_mode=None,color_mode=colour_mode) \n",
        "    return data\n",
        "\n",
        "# create image data\n",
        "train_image = create_data(gen, train, 'rgb', BATCH_SIZE, \"image\")\n",
        "\n",
        "val_image = create_data(alt_gen, val, 'rgb', BATCH_SIZE, \"image\")\n",
        "\n",
        "test_image = create_data(alt_gen, test, 'rgb', BATCH_SIZE, \"image\")\n",
        "\n",
        "# create mask data\n",
        "train_mask = create_data(gen, train, 'grayscale', BATCH_SIZE, \"mask\")\n",
        "\n",
        "val_mask = create_data(alt_gen, val, 'grayscale', BATCH_SIZE, \"mask\")\n",
        "\n",
        "test_mask = create_data(alt_gen, test, 'grayscale', BATCH_SIZE, \"mask\")\n",
        "\n",
        "# zip image and mask together\n",
        "def zip_pair(image_gen,mask_gen):\n",
        "    for img, mask in zip(image_gen,mask_gen):\n",
        "        yield img, mask\n",
        "\n",
        "train_gen = zip_pair(train_image, train_mask)\n",
        "val_gen = zip_pair(val_image,val_mask)\n",
        "test_gen = zip_pair(test_image,test_mask)"
      ]
    },
    {
      "cell_type": "code",
      "execution_count": null,
      "metadata": {
        "id": "9nyofPxQIGPe"
      },
      "outputs": [],
      "source": [
        "# convolutional block used for both encoder and decoder\n",
        "def convolutional_block(previous_layer, filter_size, kernel):\n",
        "        x = Conv2D(filter_size, kernel, activation='relu', kernel_initializer='he_normal', padding='same')(previous_layer)\n",
        "        x = Dropout(0.05)(x)\n",
        "        x = Conv2D(filter_size, kernel, activation='relu', kernel_initializer='he_normal', padding='same')(x)\n",
        "        return x\n",
        "\n",
        "# u-net method\n",
        "def u_net_seg_model(img_shape, n_classes, filter_start):\n",
        "    # input layer with defined shape\n",
        "    input_layer = Input(shape=img_shape)\n",
        "    previous = input_layer\n",
        "\n",
        "    # number of filters defined at each U-Net layer\n",
        "    filter_list = [filter_start, filter_start * 2, filter_start * 4, filter_start * 8]\n",
        "\n",
        "    # create skip connection\n",
        "    skip = []\n",
        "\n",
        "    # iterate through each layer of the encoder block\n",
        "    for filter_size in filter_list:\n",
        "        x = convolutional_block(previous, filter_size, (3,3))\n",
        "        skip.append(x)\n",
        "        x = MaxPooling2D((2, 2))(x)\n",
        "        previous = x\n",
        "\n",
        "    # reverse the skip connection list\n",
        "    skip = list(reversed(skip))\n",
        "\n",
        "    # bridge connection\n",
        "    x = convolutional_block(previous, filter_list[3], (3,3))\n",
        "    previous = x\n",
        "\n",
        "    # iterate up through each layer of the decoder block\n",
        "    for count,filter_size in enumerate(reversed(filter_list)):\n",
        "        x = Conv2DTranspose(filter_size, (2, 2), strides=(2, 2), padding='same')(previous)\n",
        "        x = concatenate([x, skip[count]], axis = 3)\n",
        "        convolutional_block(x, filter_size, (3,3))\n",
        "        previous = x\n",
        "\n",
        "    # select output activation function depend on whether the output is binary (sigmoid) or multi-class (softmax)\n",
        "    if n_classes == 1:\n",
        "        activation = 'sigmoid'\n",
        "    else:\n",
        "        activation = 'softmax'\n",
        "\n",
        "    # output layer\n",
        "    output_layer = Conv2D(n_classes, kernel_size=(1, 1), activation=activation)(previous)\n",
        "\n",
        "    return Model(inputs=input_layer, outputs=output_layer)\n",
        "\n",
        "# create model with selected parameters\n",
        "model = u_net_seg_model((IMG_SIZE, IMG_SIZE, 3), n_classes = 3, filter_start = 32)"
      ]
    },
    {
      "cell_type": "code",
      "execution_count": null,
      "metadata": {
        "colab": {
          "base_uri": "https://localhost:8080/"
        },
        "id": "BT3UoEWj1JPe",
        "outputId": "966121aa-ce07-41a0-f256-cf9f94cb6dec"
      },
      "outputs": [
        {
          "name": "stdout",
          "output_type": "stream",
          "text": [
            "Epoch 1/65\n",
            "  9/194 [>.............................] - ETA: 37:47 - loss: 0.5275 - accuracy: 0.7562"
          ]
        }
      ],
      "source": [
        "# compile model with optimiser, loss and metrics \n",
        "# loss metric needed to reflect the output of the model data e.g. binary - binary crossentropy & multi_class - categorical crossentropy \n",
        "model.compile(optimizer = Adam(), loss = \"binary_crossentropy\", metrics = ['accuracy'])\n",
        "\n",
        "# callback saving the model each time it achieves a better loss value\n",
        "callbacks = [tf.keras.callbacks.ModelCheckpoint((\"/content/drive/MyDrive/\"+'boundary_model_e65_bs16.h5'), verbose = 1, save_best_only=True, save_weights_only=True)]\n",
        "\n",
        "# calculate number of steps per epoch and validation steps\n",
        "train_step = size_train // BATCH_SIZE\n",
        "val_step = size_val // BATCH_SIZE\n",
        "\n",
        "# run the U-Net model\n",
        "trained_model = model.fit(train_gen, steps_per_epoch = train_step, epochs= EPOCHS, validation_data = val_gen, validation_steps = val_step, callbacks = callbacks)"
      ]
    },
    {
      "cell_type": "code",
      "execution_count": null,
      "metadata": {
        "id": "t312R85VhW8H"
      },
      "outputs": [],
      "source": [
        "# model metrics during training\n",
        "loss = trained_model.history['loss']\n",
        "val_loss = trained_model.history['val_loss']\n",
        "accuracy = trained_model.history['accuracy']\n",
        "val_accuracy = trained_model.history['val_accuracy']\n",
        "\n",
        "# function to plot metrics\n",
        "def plot_training_data(graph_name, train_metric, val_metric):\n",
        "    plt.figure(figsize = (8,8))\n",
        "    plt.plot(train_metric, label = \"Train\")\n",
        "    plt.plot(val_metric, label = \"Validation\")\n",
        "    plt.title(graph_name)\n",
        "    plt.legend(loc=\"upper left\")\n",
        "    plt.show()"
      ]
    },
    {
      "cell_type": "code",
      "execution_count": null,
      "metadata": {},
      "outputs": [],
      "source": [
        "# loss graph\n",
        "plot_training_data(\"Training and Validation Loss\", loss, val_loss)"
      ]
    },
    {
      "cell_type": "code",
      "execution_count": null,
      "metadata": {
        "id": "ZENR52yCvOPP"
      },
      "outputs": [],
      "source": [
        "# accuracy grraph\n",
        "plot_training_data(\"Training and Validation Accuracy\", accuracy, val_accuracy)"
      ]
    },
    {
      "cell_type": "code",
      "execution_count": null,
      "metadata": {
        "id": "LlyJh2C2-4Gv"
      },
      "outputs": [],
      "source": [
        "# method to create a prediction mask based on a input image and its ground truth mask\n",
        "def predict_img(img_path,mask_path):\n",
        "    image = cv2.imread(img_path)\n",
        "    mask = cv2.imread(mask_path)\n",
        "    image = image/255\n",
        "    image = image[np.newaxis,:]\n",
        "    pred_mask = model.predict(image) \n",
        "    return image, mask, pred_mask\n",
        "\n",
        "# graph the prediction of an image, ground truth mask and predicted mask\n",
        "# a classification uses binary crossentropy loss, a confidence probability it assigned to each pixel classification\n",
        "def plot_predictions(img,mask,pred_mask):\n",
        "    plt.figure(figsize=(30,30))\n",
        "    plt.subplot(1,5,1)\n",
        "    plt.imshow(np.squeeze(img))\n",
        "    plt.title('Image')\n",
        "    plt.subplot(1,5,2)\n",
        "    plt.imshow(np.squeeze(mask))\n",
        "    plt.title('Mask')\n",
        "    plt.subplot(1,5,3)\n",
        "    plt.imshow(np.squeeze(pred_mask))\n",
        "    plt.title('Predicted Mask')\n",
        "    plt.subplot(1,5,4)\n",
        "    plt.imshow(np.squeeze(pred_mask) > 0.2)\n",
        "    plt.title('Binary Mask Prediciton (> 20% Confidence)')\n",
        "    plt.subplot(1,5,5)\n",
        "    plt.imshow(np.squeeze(pred_mask) > 0.35)\n",
        "    plt.title('Binary Mask Prediciton (> 35% Confidence)')\n",
        "    plt.show()\n",
        "\n",
        "# reset index of test dataframe\n",
        "test = test.reset_index()\n",
        "\n",
        "# select random images from test dataset to create a segmentation using the U-Net\n",
        "num_pred = 8\n",
        "for num in range(num_pred):\n",
        "    index = random.randint(1, size_test)\n",
        "    img_path = test['image'][index]\n",
        "    mask_path = test['mask'][index]\n",
        "    img,mask,pred_mask =  predict_img(img_path,mask_path)\n",
        "    plot_predictions(img,mask,pred_mask)"
      ]
    },
    {
      "cell_type": "code",
      "execution_count": null,
      "metadata": {
        "id": "2SIKZlwnLS8Z"
      },
      "outputs": [],
      "source": []
    }
  ],
  "metadata": {
    "accelerator": "GPU",
    "colab": {
      "machine_shape": "hm",
      "name": "boundary_model.ipynb",
      "provenance": []
    },
    "gpuClass": "standard",
    "kernelspec": {
      "display_name": "Python 3.9.12 ('base')",
      "language": "python",
      "name": "python3"
    },
    "language_info": {
      "codemirror_mode": {
        "name": "ipython",
        "version": 3
      },
      "file_extension": ".py",
      "mimetype": "text/x-python",
      "name": "python",
      "nbconvert_exporter": "python",
      "pygments_lexer": "ipython3",
      "version": "3.9.12"
    },
    "orig_nbformat": 4,
    "vscode": {
      "interpreter": {
        "hash": "594cbcb53b7eb24b01ad1ace3292a9583de43e996a12a214afbcf4f5a5715dd8"
      }
    }
  },
  "nbformat": 4,
  "nbformat_minor": 0
}
