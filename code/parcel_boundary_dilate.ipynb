{
 "cells": [
  {
   "cell_type": "code",
   "execution_count": 1,
   "metadata": {},
   "outputs": [],
   "source": [
    "import numpy as np\n",
    "import os\n",
    "import random\n",
    "import PIL\n",
    "from PIL import Image\n",
    "import cv2"
   ]
  },
  {
   "cell_type": "code",
   "execution_count": 2,
   "metadata": {},
   "outputs": [],
   "source": [
    "# path location of dataset mask \n",
    "path = r'C:\\Users\\james\\Documents\\parcel_boundary_data\\raw_data\\data_by_location\\la\\mask'\n",
    "\n",
    "# produces a sorted list of the file locations of every mask within the dataset\n",
    "image_paths = sorted([ os.path.join(path, fname) for fname in os.listdir(path) if fname.endswith(\".png\")])"
   ]
  },
  {
   "cell_type": "code",
   "execution_count": 30,
   "metadata": {},
   "outputs": [
    {
     "name": "stdout",
     "output_type": "stream",
     "text": [
      "C:\\Users\\james\\Documents\\parcel_boundary_data\\raw_data\\data_by_location\\la\\mask\\la_boundary_10_mask.png\n",
      "572711\n"
     ]
    }
   ],
   "source": [
    "# iterates through the mask paths to apply dilation\n",
    "for img_path in image_paths:\n",
    "    # reads image\n",
    "    img = cv2.imread(img_path)\n",
    "    # creates kernel used in dilation (larger kernel = bigger dilation)\n",
    "    kernel = np.ones((3,3),np.uint8)\n",
    "    # cv2 library dilation function\n",
    "    dilation = cv2.dilate(img,kernel,iterations = 1)\n",
    "    # converts dilation output back to cv2 image format\n",
    "    image = Image.fromarray(dilation)\n",
    "    # saves image in original location\n",
    "    image.save(img_path)"
   ]
  }
 ],
 "metadata": {
  "kernelspec": {
   "display_name": "Python 3.10.0 64-bit",
   "language": "python",
   "name": "python3"
  },
  "language_info": {
   "codemirror_mode": {
    "name": "ipython",
    "version": 3
   },
   "file_extension": ".py",
   "mimetype": "text/x-python",
   "name": "python",
   "nbconvert_exporter": "python",
   "pygments_lexer": "ipython3",
   "version": "3.10.0"
  },
  "orig_nbformat": 4,
  "vscode": {
   "interpreter": {
    "hash": "413c54d42d867d78bc5693b88112002b4b75f03abc9fed1665b973f73c05d110"
   }
  }
 },
 "nbformat": 4,
 "nbformat_minor": 2
}
